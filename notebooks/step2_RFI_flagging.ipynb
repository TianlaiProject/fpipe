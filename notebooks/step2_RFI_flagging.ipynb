{
 "cells": [
  {
   "cell_type": "code",
   "execution_count": 1,
   "id": "bdb0023b-2644-48e2-b6c2-fdda87fde1da",
   "metadata": {},
   "outputs": [],
   "source": [
    "%load_ext autoreload\n",
    "%autoreload 2"
   ]
  },
  {
   "cell_type": "code",
   "execution_count": 2,
   "id": "ce0839e3-2259-47d5-895d-56f8d1e7aa0f",
   "metadata": {},
   "outputs": [],
   "source": [
    "from fpipe.pipeline.pipeline import run_pipeline\n",
    "from fpipe.timestream import data_base as db \n",
    "\n",
    "from fpipe.timestream import rfi_flagging # to use sum beam flagging\n",
    "from fpipe.timestream import sir_operate # to use sum beam flagging\n",
    "from fpipe.timestream import freq_rebin\n",
    "\n",
    "from fpipe.plot import plot_waterfall\n",
    "from fpipe.plot import plot_rfi as pr\n",
    "import numpy as np\n",
    "import os\n",
    "\n",
    "data_base = '/home/ycli/data/fanalysis/'\n",
    "band_list = ['_1050-1150MHz', '_1150-1250MHz', '_1250-1450MHz']\n",
    "tnoise_file = '/home/ycli/data/fast/tnoise/Tnoise_M_low.h5'\n"
   ]
  },
  {
   "cell_type": "code",
   "execution_count": 3,
   "id": "ff478fef-0813-4cdf-97b7-f1785780c70b",
   "metadata": {},
   "outputs": [],
   "source": [
    "@run_pipeline\n",
    "def sumthreshold_flagging():\n",
    "    pipe_tasks = []\n",
    "    pipe_outdir = data_base\n",
    "    pipe_logging = 'info'\n",
    "    pipe_copy = False\n",
    "    pipe_feedback = 0\n",
    "    pipe_timing = True\n",
    "    \n",
    "    feed_select = list(np.arange(1, 20))\n",
    "    \n",
    "    pipe_tasks.append(rfi_flagging.Flag)\n",
    "    \n",
    "    rf_input_files = [] #['bpcal/%s'%f for f in input_files]\n",
    "    rf_output_files = [] #[ 'sumthreshold_flagging_sumfeeds/%s'%(f, ) for f in input_files ]\n",
    "    rf_show_grogress = True\n",
    "    rf_corr = 'auto'\n",
    "    rf_process_timing = True\n",
    "    rf_first_threshold = 10.0\n",
    "    # rf_distribution = 'Gaussian'\n",
    "    rf_tk_size = 0.01\n",
    "    rf_fk_size = 100.0\n",
    "    rf_feed_select = feed_select\n",
    "    \n",
    "    #rf_flag_direction = ('time',)\n",
    "    rf_flag_direction = ('freq',)\n",
    "    rf_max_threshold_length = 256\n",
    "    #rf_max_threshold_length = 128\n",
    "    \n",
    "    rf_threshold_num = 5\n",
    "    #rf_bad_freqs = [[1160, 1190], [1200, 1220], [1250, 1300]]\n",
    "    rf_bad_freqs  = [[1156.45, 1217.14], [1225.6, 1229.6], [1244.0, 1249.06],\n",
    "                     [1258.52, 1293.75]]\n",
    "    rf_rfi_hist = None #data_base +  '/rfi_hist/sth_sumfeeds_%s_%s%s.h5'%(DATE, DATA, suffix)\n",
    "    \n",
    "    return locals()\n",
    "\n",
    "@run_pipeline\n",
    "def sir_flagging():\n",
    "    pipe_tasks = []\n",
    "    pipe_outdir = data_base\n",
    "    pipe_logging = 'info'\n",
    "    pipe_copy = False\n",
    "    pipe_feedback = 0\n",
    "    pipe_timing = True\n",
    "    \n",
    "    feed_select = list(np.arange(1, 20))    \n",
    "    \n",
    "    pipe_tasks.append(sir_operate.Sir)\n",
    "    \n",
    "    sir_input_files = [] #rf_output_files\n",
    "    sir_feed_select = feed_select\n",
    "    sir_corr = 'auto'\n",
    "    sir_show_grogress = True\n",
    "    sir_process_timing = True\n",
    "    sir_eta = 0.05\n",
    "    sir_output_files = [] #[ 'sir_flagging_sumfeeds/%s'%f for f in input_files ]\n",
    "    \n",
    "    return locals()\n",
    "\n",
    "@run_pipeline\n",
    "def rebin_frequency():\n",
    "    pipe_tasks = []\n",
    "    pipe_outdir = data_base\n",
    "    pipe_logging = 'info'\n",
    "    pipe_copy = False\n",
    "    pipe_feedback = 0\n",
    "    pipe_timing = True\n",
    "    \n",
    "    feed_select = list(np.arange(1, 20))\n",
    "    \n",
    "    pipe_tasks.append(freq_rebin.Rebin)\n",
    "    \n",
    "    rb_input_files = [] #sir_output_files\n",
    "    rb_corr = 'auto'\n",
    "    rb_process_timing = True\n",
    "    rb_output_files = [] #[ 'rb4_sumfeeds_nocal/%s'%(f, ) for f in input_files ]\n",
    "    rb_bin_combine_number = 4\n",
    "    \n",
    "    return locals()\n",
    "\n",
    "@run_pipeline\n",
    "def plot_wf():\n",
    "    pipe_tasks = []\n",
    "    pipe_outdir = data_base\n",
    "    pipe_logging = 'info'\n",
    "    pipe_copy = False\n",
    "    pipe_feedback = 0\n",
    "    pipe_timing = True\n",
    "    \n",
    "    feed_select = list(np.arange(1, 20))\n",
    "\n",
    "    pipe_tasks.append((plot_waterfall.PlotMeerKAT, 'pkat1_'))\n",
    "    \n",
    "    pkat1_input_files  = [] #['%s/%s'%('bpcal', f,) for f in input_files]\n",
    "    pkat1_re_scale  = 2.0 #2.0 #0.2\n",
    "    pkat1_main_data = 'vis'\n",
    "    pkat1_fig_name  = '' #'wf/%s_%s%s'%('bpcal', DATA_Key, suffix)\n",
    "    pkat1_flag_mask = True\n",
    "    pkat1_flag_ns   = True\n",
    "    pkat1_flag_raw  = False\n",
    "    pkat1_plot_ra = False\n",
    "    pkat1_bad_freq_list = None #[[2600, 2800],]\n",
    "    pkat1_bad_time_list = None #bad_time_list # [[0, 120], [3150, 3180], [3750, 3820]]\n",
    "    pkat1_feed_select = [1, ] #feed_select #[show + 1, ]\n",
    "    pkat1_plot_index  = False\n",
    "    pkat1_unit = r'$T[K]$'\n",
    "    \n",
    "    return locals()"
   ]
  },
  {
   "cell_type": "code",
   "execution_count": 4,
   "id": "67744f9f-a8c4-4d9b-834c-2e233829286b",
   "metadata": {},
   "outputs": [],
   "source": [
    "#DATA_Key='20220210'\n",
    "#data = db.DATA_BASE[DATA_Key]\n",
    "#DATA = data['DATA']\n",
    "#DATE = data['DATE']\n",
    "\n",
    "DATA_Key_list = [#'20210313', '20210314', '20210305', '20210302', '20210306', '20210307', '20210309', \n",
    "                 #'20220210', \n",
    "                 '20220211', '20220212', '20220213', '20220214', '20220222',\n",
    "                 '20220215', '20220216', '20220217', '20220218', '20220219', '20220220',\n",
    "                ]\n",
    "\n",
    "#DATA_Key_list = ['20210313',]\n",
    "\n",
    "def iter_data_key(DATA_Key_list):\n",
    "    \n",
    "    for DATA_Key in DATA_Key_list:\n",
    "    \n",
    "        data = db.DATA_BASE[DATA_Key]\n",
    "        DATA = data['DATA']\n",
    "        DATE = data['DATE']\n",
    "        \n",
    "        yield DATA_Key, DATA, DATE"
   ]
  },
  {
   "cell_type": "code",
   "execution_count": null,
   "id": "b4920b56-561a-4b04-8554-e542f3ba1807",
   "metadata": {
    "scrolled": true,
    "tags": []
   },
   "outputs": [
    {
     "name": "stderr",
     "output_type": "stream",
     "text": [
      "INFO:tlpipe.pipeline.pipeline:Initializing task: <class 'fpipe.timestream.rfi_flagging.Flag'>\n",
      "INFO:tlpipe.pipeline.pipeline:Flag reading data from files:\n",
      "\t/home/ycli/data/fanalysis/bpcal/20220211/HIMGS_1100+2610_arcdrift0001-0001_1050-1150MHz.h5\n",
      "\t/home/ycli/data/fanalysis/bpcal/20220211/HIMGS_1100+2610_arcdrift0002-0002_1050-1150MHz.h5\n",
      "\t/home/ycli/data/fanalysis/bpcal/20220211/HIMGS_1100+2610_arcdrift0003-0003_1050-1150MHz.h5\n",
      "\t/home/ycli/data/fanalysis/bpcal/20220211/HIMGS_1100+2610_arcdrift0004-0004_1050-1150MHz.h5\n",
      "\t/home/ycli/data/fanalysis/bpcal/20220211/HIMGS_1100+2610_arcdrift0005-0005_1050-1150MHz.h5\n",
      "\t/home/ycli/data/fanalysis/bpcal/20220211/HIMGS_1100+2610_arcdrift0006-0006_1050-1150MHz.h5\n",
      "\t/home/ycli/data/fanalysis/bpcal/20220211/HIMGS_1100+2610_arcdrift0007-0007_1050-1150MHz.h5\n",
      "INFO:fpipe.timestream.rfi_flagging:mask freq 1156.450000 - 1217.140000 MHz\n",
      "INFO:fpipe.timestream.rfi_flagging:mask freq 1225.600000 - 1229.600000 MHz\n",
      "INFO:fpipe.timestream.rfi_flagging:mask freq 1244.000000 - 1249.060000 MHz\n",
      "INFO:fpipe.timestream.rfi_flagging:mask freq 1258.520000 - 1293.750000 MHz\n",
      "INFO:tlpipe.pipeline.pipeline:Executing time of Flag.process(): 0:18:43.449256 [ 2022-11-28 08:22:36.996835 - 2022-11-28 08:41:20.446091 ]\n",
      "INFO:tlpipe.pipeline.pipeline:Flag writing data to files:\n",
      "\t/home/ycli/data/fanalysis/rf_sumfeeds/20220211/HIMGS_1100+2610_arcdrift0001-0001_1050-1150MHz.h5\n",
      "\t/home/ycli/data/fanalysis/rf_sumfeeds/20220211/HIMGS_1100+2610_arcdrift0002-0002_1050-1150MHz.h5\n",
      "\t/home/ycli/data/fanalysis/rf_sumfeeds/20220211/HIMGS_1100+2610_arcdrift0003-0003_1050-1150MHz.h5\n",
      "\t/home/ycli/data/fanalysis/rf_sumfeeds/20220211/HIMGS_1100+2610_arcdrift0004-0004_1050-1150MHz.h5\n",
      "\t/home/ycli/data/fanalysis/rf_sumfeeds/20220211/HIMGS_1100+2610_arcdrift0005-0005_1050-1150MHz.h5\n",
      "\t/home/ycli/data/fanalysis/rf_sumfeeds/20220211/HIMGS_1100+2610_arcdrift0006-0006_1050-1150MHz.h5\n",
      "\t/home/ycli/data/fanalysis/rf_sumfeeds/20220211/HIMGS_1100+2610_arcdrift0007-0007_1050-1150MHz.h5\n",
      "INFO:tlpipe.pipeline.pipeline:End the pipeline at 2022-11-28 08:44:27.006447...\n",
      "INFO:tlpipe.pipeline.pipeline:Total run time: 22 minutes 56.04 seconds\n",
      "INFO:tlpipe.pipeline.pipeline:Start the pipeline at 2022-11-28 08:44:27.177614...\n",
      "INFO:tlpipe.pipeline.pipeline:Initializing task: <class 'fpipe.timestream.sir_operate.Sir'>\n",
      "INFO:tlpipe.pipeline.pipeline:Sir reading data from files:\n",
      "\t/home/ycli/data/fanalysis/rf_sumfeeds/20220211/HIMGS_1100+2610_arcdrift0001-0001_1050-1150MHz.h5\n",
      "\t/home/ycli/data/fanalysis/rf_sumfeeds/20220211/HIMGS_1100+2610_arcdrift0002-0002_1050-1150MHz.h5\n",
      "\t/home/ycli/data/fanalysis/rf_sumfeeds/20220211/HIMGS_1100+2610_arcdrift0003-0003_1050-1150MHz.h5\n",
      "\t/home/ycli/data/fanalysis/rf_sumfeeds/20220211/HIMGS_1100+2610_arcdrift0004-0004_1050-1150MHz.h5\n",
      "\t/home/ycli/data/fanalysis/rf_sumfeeds/20220211/HIMGS_1100+2610_arcdrift0005-0005_1050-1150MHz.h5\n",
      "\t/home/ycli/data/fanalysis/rf_sumfeeds/20220211/HIMGS_1100+2610_arcdrift0006-0006_1050-1150MHz.h5\n",
      "\t/home/ycli/data/fanalysis/rf_sumfeeds/20220211/HIMGS_1100+2610_arcdrift0007-0007_1050-1150MHz.h5\n"
     ]
    },
    {
     "name": "stdout",
     "output_type": "stream",
     "text": [
      "\n",
      "\n",
      "==========================================\n",
      "=                                        =\n",
      "=        DONE FOR THE PIPELINE!!         =\n",
      "=           CONGRATULATIONS!!            =\n",
      "=                                        =\n",
      "==========================================\n"
     ]
    },
    {
     "name": "stderr",
     "output_type": "stream",
     "text": [
      "INFO:tlpipe.pipeline.pipeline:Executing time of Sir.process(): 0:00:55.635806 [ 2022-11-28 08:45:24.831716 - 2022-11-28 08:46:20.467522 ]\n",
      "INFO:tlpipe.pipeline.pipeline:Sir writing data to files:\n",
      "\t/home/ycli/data/fanalysis/sir_sumfeeds/20220211/HIMGS_1100+2610_arcdrift0001-0001_1050-1150MHz.h5\n",
      "\t/home/ycli/data/fanalysis/sir_sumfeeds/20220211/HIMGS_1100+2610_arcdrift0002-0002_1050-1150MHz.h5\n",
      "\t/home/ycli/data/fanalysis/sir_sumfeeds/20220211/HIMGS_1100+2610_arcdrift0003-0003_1050-1150MHz.h5\n",
      "\t/home/ycli/data/fanalysis/sir_sumfeeds/20220211/HIMGS_1100+2610_arcdrift0004-0004_1050-1150MHz.h5\n",
      "\t/home/ycli/data/fanalysis/sir_sumfeeds/20220211/HIMGS_1100+2610_arcdrift0005-0005_1050-1150MHz.h5\n",
      "\t/home/ycli/data/fanalysis/sir_sumfeeds/20220211/HIMGS_1100+2610_arcdrift0006-0006_1050-1150MHz.h5\n",
      "\t/home/ycli/data/fanalysis/sir_sumfeeds/20220211/HIMGS_1100+2610_arcdrift0007-0007_1050-1150MHz.h5\n",
      "INFO:tlpipe.pipeline.pipeline:End the pipeline at 2022-11-28 08:49:36.832160...\n",
      "INFO:tlpipe.pipeline.pipeline:Total run time: 5 minutes 9.65 seconds\n",
      "INFO:tlpipe.pipeline.pipeline:Start the pipeline at 2022-11-28 08:49:36.999715...\n",
      "INFO:tlpipe.pipeline.pipeline:Initializing task: <class 'fpipe.timestream.freq_rebin.Rebin'>\n",
      "INFO:tlpipe.pipeline.pipeline:Rebin reading data from files:\n",
      "\t/home/ycli/data/fanalysis/sir_sumfeeds/20220211/HIMGS_1100+2610_arcdrift0001-0001_1050-1150MHz.h5\n",
      "\t/home/ycli/data/fanalysis/sir_sumfeeds/20220211/HIMGS_1100+2610_arcdrift0002-0002_1050-1150MHz.h5\n",
      "\t/home/ycli/data/fanalysis/sir_sumfeeds/20220211/HIMGS_1100+2610_arcdrift0003-0003_1050-1150MHz.h5\n",
      "\t/home/ycli/data/fanalysis/sir_sumfeeds/20220211/HIMGS_1100+2610_arcdrift0004-0004_1050-1150MHz.h5\n",
      "\t/home/ycli/data/fanalysis/sir_sumfeeds/20220211/HIMGS_1100+2610_arcdrift0005-0005_1050-1150MHz.h5\n",
      "\t/home/ycli/data/fanalysis/sir_sumfeeds/20220211/HIMGS_1100+2610_arcdrift0006-0006_1050-1150MHz.h5\n",
      "\t/home/ycli/data/fanalysis/sir_sumfeeds/20220211/HIMGS_1100+2610_arcdrift0007-0007_1050-1150MHz.h5\n"
     ]
    },
    {
     "name": "stdout",
     "output_type": "stream",
     "text": [
      "\n",
      "\n",
      "==========================================\n",
      "=                                        =\n",
      "=        DONE FOR THE PIPELINE!!         =\n",
      "=           CONGRATULATIONS!!            =\n",
      "=                                        =\n",
      "==========================================\n"
     ]
    },
    {
     "name": "stderr",
     "output_type": "stream",
     "text": [
      "INFO:tlpipe.pipeline.pipeline:Executing time of Rebin.process(): 0:04:05.946196 [ 2022-11-28 08:52:21.150191 - 2022-11-28 08:56:27.096387 ]\n",
      "INFO:tlpipe.pipeline.pipeline:Rebin writing data to files:\n",
      "\t/home/ycli/data/fanalysis/rb4_sumfeeds/20220211/HIMGS_1100+2610_arcdrift0001-0001_1050-1150MHz.h5\n",
      "\t/home/ycli/data/fanalysis/rb4_sumfeeds/20220211/HIMGS_1100+2610_arcdrift0002-0002_1050-1150MHz.h5\n",
      "\t/home/ycli/data/fanalysis/rb4_sumfeeds/20220211/HIMGS_1100+2610_arcdrift0003-0003_1050-1150MHz.h5\n",
      "\t/home/ycli/data/fanalysis/rb4_sumfeeds/20220211/HIMGS_1100+2610_arcdrift0004-0004_1050-1150MHz.h5\n",
      "\t/home/ycli/data/fanalysis/rb4_sumfeeds/20220211/HIMGS_1100+2610_arcdrift0005-0005_1050-1150MHz.h5\n",
      "\t/home/ycli/data/fanalysis/rb4_sumfeeds/20220211/HIMGS_1100+2610_arcdrift0006-0006_1050-1150MHz.h5\n",
      "\t/home/ycli/data/fanalysis/rb4_sumfeeds/20220211/HIMGS_1100+2610_arcdrift0007-0007_1050-1150MHz.h5\n"
     ]
    },
    {
     "name": "stdout",
     "output_type": "stream",
     "text": [
      "freq resolution reduced from 0.0076904297 to 0.030518 MHz (13106 - 3276)\n"
     ]
    },
    {
     "name": "stderr",
     "output_type": "stream",
     "text": [
      "INFO:tlpipe.pipeline.pipeline:End the pipeline at 2022-11-28 08:57:08.237320...\n",
      "INFO:tlpipe.pipeline.pipeline:Total run time: 7 minutes 31.24 seconds\n",
      "INFO:tlpipe.pipeline.pipeline:Start the pipeline at 2022-11-28 08:57:08.364909...\n",
      "INFO:tlpipe.pipeline.pipeline:Initializing task: <class 'fpipe.timestream.rfi_flagging.Flag'>\n"
     ]
    },
    {
     "name": "stdout",
     "output_type": "stream",
     "text": [
      "\n",
      "\n",
      "==========================================\n",
      "=                                        =\n",
      "=        DONE FOR THE PIPELINE!!         =\n",
      "=           CONGRATULATIONS!!            =\n",
      "=                                        =\n",
      "==========================================\n"
     ]
    },
    {
     "name": "stderr",
     "output_type": "stream",
     "text": [
      "INFO:tlpipe.pipeline.pipeline:Flag reading data from files:\n",
      "\t/home/ycli/data/fanalysis/bpcal/20220211/HIMGS_1100+2610_arcdrift0001-0001_1150-1250MHz.h5\n",
      "\t/home/ycli/data/fanalysis/bpcal/20220211/HIMGS_1100+2610_arcdrift0002-0002_1150-1250MHz.h5\n",
      "\t/home/ycli/data/fanalysis/bpcal/20220211/HIMGS_1100+2610_arcdrift0003-0003_1150-1250MHz.h5\n",
      "\t/home/ycli/data/fanalysis/bpcal/20220211/HIMGS_1100+2610_arcdrift0004-0004_1150-1250MHz.h5\n",
      "\t/home/ycli/data/fanalysis/bpcal/20220211/HIMGS_1100+2610_arcdrift0005-0005_1150-1250MHz.h5\n",
      "\t/home/ycli/data/fanalysis/bpcal/20220211/HIMGS_1100+2610_arcdrift0006-0006_1150-1250MHz.h5\n",
      "\t/home/ycli/data/fanalysis/bpcal/20220211/HIMGS_1100+2610_arcdrift0007-0007_1150-1250MHz.h5\n",
      "INFO:fpipe.timestream.rfi_flagging:mask freq 1156.450000 - 1217.140000 MHz\n",
      "INFO:fpipe.timestream.rfi_flagging:mask freq 1225.600000 - 1229.600000 MHz\n",
      "INFO:fpipe.timestream.rfi_flagging:mask freq 1244.000000 - 1249.060000 MHz\n",
      "INFO:fpipe.timestream.rfi_flagging:mask freq 1258.520000 - 1293.750000 MHz\n",
      "INFO:tlpipe.pipeline.pipeline:Executing time of Flag.process(): 0:16:24.056092 [ 2022-11-28 08:58:48.771829 - 2022-11-28 09:15:12.827921 ]\n",
      "INFO:tlpipe.pipeline.pipeline:Flag writing data to files:\n",
      "\t/home/ycli/data/fanalysis/rf_sumfeeds/20220211/HIMGS_1100+2610_arcdrift0001-0001_1150-1250MHz.h5\n",
      "\t/home/ycli/data/fanalysis/rf_sumfeeds/20220211/HIMGS_1100+2610_arcdrift0002-0002_1150-1250MHz.h5\n",
      "\t/home/ycli/data/fanalysis/rf_sumfeeds/20220211/HIMGS_1100+2610_arcdrift0003-0003_1150-1250MHz.h5\n",
      "\t/home/ycli/data/fanalysis/rf_sumfeeds/20220211/HIMGS_1100+2610_arcdrift0004-0004_1150-1250MHz.h5\n",
      "\t/home/ycli/data/fanalysis/rf_sumfeeds/20220211/HIMGS_1100+2610_arcdrift0005-0005_1150-1250MHz.h5\n",
      "\t/home/ycli/data/fanalysis/rf_sumfeeds/20220211/HIMGS_1100+2610_arcdrift0006-0006_1150-1250MHz.h5\n",
      "\t/home/ycli/data/fanalysis/rf_sumfeeds/20220211/HIMGS_1100+2610_arcdrift0007-0007_1150-1250MHz.h5\n",
      "INFO:tlpipe.pipeline.pipeline:End the pipeline at 2022-11-28 09:18:17.624918...\n",
      "INFO:tlpipe.pipeline.pipeline:Total run time: 21 minutes 9.26 seconds\n",
      "INFO:tlpipe.pipeline.pipeline:Start the pipeline at 2022-11-28 09:18:17.797067...\n",
      "INFO:tlpipe.pipeline.pipeline:Initializing task: <class 'fpipe.timestream.sir_operate.Sir'>\n",
      "INFO:tlpipe.pipeline.pipeline:Sir reading data from files:\n",
      "\t/home/ycli/data/fanalysis/rf_sumfeeds/20220211/HIMGS_1100+2610_arcdrift0001-0001_1150-1250MHz.h5\n",
      "\t/home/ycli/data/fanalysis/rf_sumfeeds/20220211/HIMGS_1100+2610_arcdrift0002-0002_1150-1250MHz.h5\n",
      "\t/home/ycli/data/fanalysis/rf_sumfeeds/20220211/HIMGS_1100+2610_arcdrift0003-0003_1150-1250MHz.h5\n",
      "\t/home/ycli/data/fanalysis/rf_sumfeeds/20220211/HIMGS_1100+2610_arcdrift0004-0004_1150-1250MHz.h5\n",
      "\t/home/ycli/data/fanalysis/rf_sumfeeds/20220211/HIMGS_1100+2610_arcdrift0005-0005_1150-1250MHz.h5\n",
      "\t/home/ycli/data/fanalysis/rf_sumfeeds/20220211/HIMGS_1100+2610_arcdrift0006-0006_1150-1250MHz.h5\n",
      "\t/home/ycli/data/fanalysis/rf_sumfeeds/20220211/HIMGS_1100+2610_arcdrift0007-0007_1150-1250MHz.h5\n"
     ]
    },
    {
     "name": "stdout",
     "output_type": "stream",
     "text": [
      "\n",
      "\n",
      "==========================================\n",
      "=                                        =\n",
      "=        DONE FOR THE PIPELINE!!         =\n",
      "=           CONGRATULATIONS!!            =\n",
      "=                                        =\n",
      "==========================================\n"
     ]
    },
    {
     "name": "stderr",
     "output_type": "stream",
     "text": [
      "INFO:tlpipe.pipeline.pipeline:Executing time of Sir.process(): 0:00:55.668793 [ 2022-11-28 09:19:15.985018 - 2022-11-28 09:20:11.653811 ]\n",
      "INFO:tlpipe.pipeline.pipeline:Sir writing data to files:\n",
      "\t/home/ycli/data/fanalysis/sir_sumfeeds/20220211/HIMGS_1100+2610_arcdrift0001-0001_1150-1250MHz.h5\n",
      "\t/home/ycli/data/fanalysis/sir_sumfeeds/20220211/HIMGS_1100+2610_arcdrift0002-0002_1150-1250MHz.h5\n",
      "\t/home/ycli/data/fanalysis/sir_sumfeeds/20220211/HIMGS_1100+2610_arcdrift0003-0003_1150-1250MHz.h5\n",
      "\t/home/ycli/data/fanalysis/sir_sumfeeds/20220211/HIMGS_1100+2610_arcdrift0004-0004_1150-1250MHz.h5\n",
      "\t/home/ycli/data/fanalysis/sir_sumfeeds/20220211/HIMGS_1100+2610_arcdrift0005-0005_1150-1250MHz.h5\n",
      "\t/home/ycli/data/fanalysis/sir_sumfeeds/20220211/HIMGS_1100+2610_arcdrift0006-0006_1150-1250MHz.h5\n",
      "\t/home/ycli/data/fanalysis/sir_sumfeeds/20220211/HIMGS_1100+2610_arcdrift0007-0007_1150-1250MHz.h5\n",
      "INFO:tlpipe.pipeline.pipeline:End the pipeline at 2022-11-28 09:23:25.914033...\n",
      "INFO:tlpipe.pipeline.pipeline:Total run time: 5 minutes 8.12 seconds\n",
      "INFO:tlpipe.pipeline.pipeline:Start the pipeline at 2022-11-28 09:23:26.109139...\n",
      "INFO:tlpipe.pipeline.pipeline:Initializing task: <class 'fpipe.timestream.freq_rebin.Rebin'>\n"
     ]
    },
    {
     "name": "stdout",
     "output_type": "stream",
     "text": [
      "\n",
      "\n",
      "==========================================\n",
      "=                                        =\n",
      "=        DONE FOR THE PIPELINE!!         =\n",
      "=           CONGRATULATIONS!!            =\n",
      "=                                        =\n",
      "==========================================\n"
     ]
    },
    {
     "name": "stderr",
     "output_type": "stream",
     "text": [
      "INFO:tlpipe.pipeline.pipeline:Rebin reading data from files:\n",
      "\t/home/ycli/data/fanalysis/sir_sumfeeds/20220211/HIMGS_1100+2610_arcdrift0001-0001_1150-1250MHz.h5\n",
      "\t/home/ycli/data/fanalysis/sir_sumfeeds/20220211/HIMGS_1100+2610_arcdrift0002-0002_1150-1250MHz.h5\n",
      "\t/home/ycli/data/fanalysis/sir_sumfeeds/20220211/HIMGS_1100+2610_arcdrift0003-0003_1150-1250MHz.h5\n",
      "\t/home/ycli/data/fanalysis/sir_sumfeeds/20220211/HIMGS_1100+2610_arcdrift0004-0004_1150-1250MHz.h5\n",
      "\t/home/ycli/data/fanalysis/sir_sumfeeds/20220211/HIMGS_1100+2610_arcdrift0005-0005_1150-1250MHz.h5\n",
      "\t/home/ycli/data/fanalysis/sir_sumfeeds/20220211/HIMGS_1100+2610_arcdrift0006-0006_1150-1250MHz.h5\n",
      "\t/home/ycli/data/fanalysis/sir_sumfeeds/20220211/HIMGS_1100+2610_arcdrift0007-0007_1150-1250MHz.h5\n",
      "INFO:tlpipe.pipeline.pipeline:Executing time of Rebin.process(): 0:04:41.494380 [ 2022-11-28 09:26:00.231042 - 2022-11-28 09:30:41.725422 ]\n",
      "INFO:tlpipe.pipeline.pipeline:Rebin writing data to files:\n",
      "\t/home/ycli/data/fanalysis/rb4_sumfeeds/20220211/HIMGS_1100+2610_arcdrift0001-0001_1150-1250MHz.h5\n",
      "\t/home/ycli/data/fanalysis/rb4_sumfeeds/20220211/HIMGS_1100+2610_arcdrift0002-0002_1150-1250MHz.h5\n",
      "\t/home/ycli/data/fanalysis/rb4_sumfeeds/20220211/HIMGS_1100+2610_arcdrift0003-0003_1150-1250MHz.h5\n",
      "\t/home/ycli/data/fanalysis/rb4_sumfeeds/20220211/HIMGS_1100+2610_arcdrift0004-0004_1150-1250MHz.h5\n",
      "\t/home/ycli/data/fanalysis/rb4_sumfeeds/20220211/HIMGS_1100+2610_arcdrift0005-0005_1150-1250MHz.h5\n",
      "\t/home/ycli/data/fanalysis/rb4_sumfeeds/20220211/HIMGS_1100+2610_arcdrift0006-0006_1150-1250MHz.h5\n",
      "\t/home/ycli/data/fanalysis/rb4_sumfeeds/20220211/HIMGS_1100+2610_arcdrift0007-0007_1150-1250MHz.h5\n"
     ]
    },
    {
     "name": "stdout",
     "output_type": "stream",
     "text": [
      "freq resolution reduced from 0.0075683594 to 0.030518 MHz (13106 - 3276)\n"
     ]
    },
    {
     "name": "stderr",
     "output_type": "stream",
     "text": [
      "INFO:tlpipe.pipeline.pipeline:End the pipeline at 2022-11-28 09:31:22.939386...\n",
      "INFO:tlpipe.pipeline.pipeline:Total run time: 7 minutes 56.83 seconds\n",
      "INFO:tlpipe.pipeline.pipeline:Start the pipeline at 2022-11-28 09:31:23.068280...\n",
      "INFO:tlpipe.pipeline.pipeline:Initializing task: <class 'fpipe.timestream.rfi_flagging.Flag'>\n",
      "INFO:tlpipe.pipeline.pipeline:Flag reading data from files:\n",
      "\t/home/ycli/data/fanalysis/bpcal/20220211/HIMGS_1100+2610_arcdrift0001-0001_1250-1450MHz.h5\n",
      "\t/home/ycli/data/fanalysis/bpcal/20220211/HIMGS_1100+2610_arcdrift0002-0002_1250-1450MHz.h5\n",
      "\t/home/ycli/data/fanalysis/bpcal/20220211/HIMGS_1100+2610_arcdrift0003-0003_1250-1450MHz.h5\n",
      "\t/home/ycli/data/fanalysis/bpcal/20220211/HIMGS_1100+2610_arcdrift0004-0004_1250-1450MHz.h5\n",
      "\t/home/ycli/data/fanalysis/bpcal/20220211/HIMGS_1100+2610_arcdrift0005-0005_1250-1450MHz.h5\n",
      "\t/home/ycli/data/fanalysis/bpcal/20220211/HIMGS_1100+2610_arcdrift0006-0006_1250-1450MHz.h5\n",
      "\t/home/ycli/data/fanalysis/bpcal/20220211/HIMGS_1100+2610_arcdrift0007-0007_1250-1450MHz.h5\n"
     ]
    },
    {
     "name": "stdout",
     "output_type": "stream",
     "text": [
      "\n",
      "\n",
      "==========================================\n",
      "=                                        =\n",
      "=        DONE FOR THE PIPELINE!!         =\n",
      "=           CONGRATULATIONS!!            =\n",
      "=                                        =\n",
      "==========================================\n"
     ]
    },
    {
     "name": "stderr",
     "output_type": "stream",
     "text": [
      "INFO:fpipe.timestream.rfi_flagging:mask freq 1156.450000 - 1217.140000 MHz\n",
      "INFO:fpipe.timestream.rfi_flagging:mask freq 1225.600000 - 1229.600000 MHz\n",
      "INFO:fpipe.timestream.rfi_flagging:mask freq 1244.000000 - 1249.060000 MHz\n",
      "INFO:fpipe.timestream.rfi_flagging:mask freq 1258.520000 - 1293.750000 MHz\n",
      "INFO:tlpipe.pipeline.pipeline:Executing time of Flag.process(): 0:40:06.659236 [ 2022-11-28 09:34:45.940766 - 2022-11-28 10:14:52.600002 ]\n",
      "INFO:tlpipe.pipeline.pipeline:Flag writing data to files:\n",
      "\t/home/ycli/data/fanalysis/rf_sumfeeds/20220211/HIMGS_1100+2610_arcdrift0001-0001_1250-1450MHz.h5\n",
      "\t/home/ycli/data/fanalysis/rf_sumfeeds/20220211/HIMGS_1100+2610_arcdrift0002-0002_1250-1450MHz.h5\n",
      "\t/home/ycli/data/fanalysis/rf_sumfeeds/20220211/HIMGS_1100+2610_arcdrift0003-0003_1250-1450MHz.h5\n",
      "\t/home/ycli/data/fanalysis/rf_sumfeeds/20220211/HIMGS_1100+2610_arcdrift0004-0004_1250-1450MHz.h5\n",
      "\t/home/ycli/data/fanalysis/rf_sumfeeds/20220211/HIMGS_1100+2610_arcdrift0005-0005_1250-1450MHz.h5\n",
      "\t/home/ycli/data/fanalysis/rf_sumfeeds/20220211/HIMGS_1100+2610_arcdrift0006-0006_1250-1450MHz.h5\n",
      "\t/home/ycli/data/fanalysis/rf_sumfeeds/20220211/HIMGS_1100+2610_arcdrift0007-0007_1250-1450MHz.h5\n",
      "INFO:tlpipe.pipeline.pipeline:End the pipeline at 2022-11-28 10:36:00.770911...\n",
      "INFO:tlpipe.pipeline.pipeline:Total run time: 1 hour 4 minutes 37.70 seconds\n",
      "INFO:tlpipe.pipeline.pipeline:Start the pipeline at 2022-11-28 10:36:02.584643...\n",
      "INFO:tlpipe.pipeline.pipeline:Initializing task: <class 'fpipe.timestream.sir_operate.Sir'>\n",
      "INFO:tlpipe.pipeline.pipeline:Sir reading data from files:\n",
      "\t/home/ycli/data/fanalysis/rf_sumfeeds/20220211/HIMGS_1100+2610_arcdrift0001-0001_1250-1450MHz.h5\n",
      "\t/home/ycli/data/fanalysis/rf_sumfeeds/20220211/HIMGS_1100+2610_arcdrift0002-0002_1250-1450MHz.h5\n",
      "\t/home/ycli/data/fanalysis/rf_sumfeeds/20220211/HIMGS_1100+2610_arcdrift0003-0003_1250-1450MHz.h5\n",
      "\t/home/ycli/data/fanalysis/rf_sumfeeds/20220211/HIMGS_1100+2610_arcdrift0004-0004_1250-1450MHz.h5\n",
      "\t/home/ycli/data/fanalysis/rf_sumfeeds/20220211/HIMGS_1100+2610_arcdrift0005-0005_1250-1450MHz.h5\n",
      "\t/home/ycli/data/fanalysis/rf_sumfeeds/20220211/HIMGS_1100+2610_arcdrift0006-0006_1250-1450MHz.h5\n",
      "\t/home/ycli/data/fanalysis/rf_sumfeeds/20220211/HIMGS_1100+2610_arcdrift0007-0007_1250-1450MHz.h5\n"
     ]
    },
    {
     "name": "stdout",
     "output_type": "stream",
     "text": [
      "\n",
      "\n",
      "==========================================\n",
      "=                                        =\n",
      "=        DONE FOR THE PIPELINE!!         =\n",
      "=           CONGRATULATIONS!!            =\n",
      "=                                        =\n",
      "==========================================\n"
     ]
    },
    {
     "name": "stderr",
     "output_type": "stream",
     "text": [
      "INFO:tlpipe.pipeline.pipeline:Executing time of Sir.process(): 0:03:10.492636 [ 2022-11-28 10:40:33.237230 - 2022-11-28 10:43:43.729866 ]\n",
      "INFO:tlpipe.pipeline.pipeline:Sir writing data to files:\n",
      "\t/home/ycli/data/fanalysis/sir_sumfeeds/20220211/HIMGS_1100+2610_arcdrift0001-0001_1250-1450MHz.h5\n",
      "\t/home/ycli/data/fanalysis/sir_sumfeeds/20220211/HIMGS_1100+2610_arcdrift0002-0002_1250-1450MHz.h5\n",
      "\t/home/ycli/data/fanalysis/sir_sumfeeds/20220211/HIMGS_1100+2610_arcdrift0003-0003_1250-1450MHz.h5\n",
      "\t/home/ycli/data/fanalysis/sir_sumfeeds/20220211/HIMGS_1100+2610_arcdrift0004-0004_1250-1450MHz.h5\n",
      "\t/home/ycli/data/fanalysis/sir_sumfeeds/20220211/HIMGS_1100+2610_arcdrift0005-0005_1250-1450MHz.h5\n",
      "\t/home/ycli/data/fanalysis/sir_sumfeeds/20220211/HIMGS_1100+2610_arcdrift0006-0006_1250-1450MHz.h5\n",
      "\t/home/ycli/data/fanalysis/sir_sumfeeds/20220211/HIMGS_1100+2610_arcdrift0007-0007_1250-1450MHz.h5\n",
      "INFO:tlpipe.pipeline.pipeline:End the pipeline at 2022-11-28 11:06:44.886517...\n",
      "INFO:tlpipe.pipeline.pipeline:Total run time: 30 minutes 42.30 seconds\n",
      "INFO:tlpipe.pipeline.pipeline:Start the pipeline at 2022-11-28 11:06:46.753561...\n",
      "INFO:tlpipe.pipeline.pipeline:Initializing task: <class 'fpipe.timestream.freq_rebin.Rebin'>\n",
      "INFO:tlpipe.pipeline.pipeline:Rebin reading data from files:\n",
      "\t/home/ycli/data/fanalysis/sir_sumfeeds/20220211/HIMGS_1100+2610_arcdrift0001-0001_1250-1450MHz.h5\n",
      "\t/home/ycli/data/fanalysis/sir_sumfeeds/20220211/HIMGS_1100+2610_arcdrift0002-0002_1250-1450MHz.h5\n",
      "\t/home/ycli/data/fanalysis/sir_sumfeeds/20220211/HIMGS_1100+2610_arcdrift0003-0003_1250-1450MHz.h5\n",
      "\t/home/ycli/data/fanalysis/sir_sumfeeds/20220211/HIMGS_1100+2610_arcdrift0004-0004_1250-1450MHz.h5\n",
      "\t/home/ycli/data/fanalysis/sir_sumfeeds/20220211/HIMGS_1100+2610_arcdrift0005-0005_1250-1450MHz.h5\n",
      "\t/home/ycli/data/fanalysis/sir_sumfeeds/20220211/HIMGS_1100+2610_arcdrift0006-0006_1250-1450MHz.h5\n",
      "\t/home/ycli/data/fanalysis/sir_sumfeeds/20220211/HIMGS_1100+2610_arcdrift0007-0007_1250-1450MHz.h5\n"
     ]
    },
    {
     "name": "stdout",
     "output_type": "stream",
     "text": [
      "\n",
      "\n",
      "==========================================\n",
      "=                                        =\n",
      "=        DONE FOR THE PIPELINE!!         =\n",
      "=           CONGRATULATIONS!!            =\n",
      "=                                        =\n",
      "==========================================\n"
     ]
    },
    {
     "name": "stderr",
     "output_type": "stream",
     "text": [
      "INFO:tlpipe.pipeline.pipeline:Executing time of Rebin.process(): 0:09:37.024911 [ 2022-11-28 11:11:20.428473 - 2022-11-28 11:20:57.453384 ]\n",
      "INFO:tlpipe.pipeline.pipeline:Rebin writing data to files:\n",
      "\t/home/ycli/data/fanalysis/rb4_sumfeeds/20220211/HIMGS_1100+2610_arcdrift0001-0001_1250-1450MHz.h5\n",
      "\t/home/ycli/data/fanalysis/rb4_sumfeeds/20220211/HIMGS_1100+2610_arcdrift0002-0002_1250-1450MHz.h5\n",
      "\t/home/ycli/data/fanalysis/rb4_sumfeeds/20220211/HIMGS_1100+2610_arcdrift0003-0003_1250-1450MHz.h5\n",
      "\t/home/ycli/data/fanalysis/rb4_sumfeeds/20220211/HIMGS_1100+2610_arcdrift0004-0004_1250-1450MHz.h5\n",
      "\t/home/ycli/data/fanalysis/rb4_sumfeeds/20220211/HIMGS_1100+2610_arcdrift0005-0005_1250-1450MHz.h5\n",
      "\t/home/ycli/data/fanalysis/rb4_sumfeeds/20220211/HIMGS_1100+2610_arcdrift0006-0006_1250-1450MHz.h5\n",
      "\t/home/ycli/data/fanalysis/rb4_sumfeeds/20220211/HIMGS_1100+2610_arcdrift0007-0007_1250-1450MHz.h5\n"
     ]
    },
    {
     "name": "stdout",
     "output_type": "stream",
     "text": [
      "freq resolution reduced from 0.0076904297 to 0.030518 MHz (26213 - 6553)\n"
     ]
    },
    {
     "name": "stderr",
     "output_type": "stream",
     "text": [
      "INFO:tlpipe.pipeline.pipeline:End the pipeline at 2022-11-28 11:22:21.712507...\n",
      "INFO:tlpipe.pipeline.pipeline:Total run time: 15 minutes 34.96 seconds\n",
      "INFO:tlpipe.pipeline.pipeline:Start the pipeline at 2022-11-28 11:22:21.866980...\n",
      "INFO:tlpipe.pipeline.pipeline:Initializing task: <class 'fpipe.timestream.rfi_flagging.Flag'>\n"
     ]
    },
    {
     "name": "stdout",
     "output_type": "stream",
     "text": [
      "\n",
      "\n",
      "==========================================\n",
      "=                                        =\n",
      "=        DONE FOR THE PIPELINE!!         =\n",
      "=           CONGRATULATIONS!!            =\n",
      "=                                        =\n",
      "==========================================\n"
     ]
    },
    {
     "name": "stderr",
     "output_type": "stream",
     "text": [
      "INFO:tlpipe.pipeline.pipeline:Flag reading data from files:\n",
      "\t/home/ycli/data/fanalysis/bpcal/20220212/HIMGS_1100+2621_arcdrift0001-0001_1050-1150MHz.h5\n",
      "\t/home/ycli/data/fanalysis/bpcal/20220212/HIMGS_1100+2621_arcdrift0002-0002_1050-1150MHz.h5\n",
      "\t/home/ycli/data/fanalysis/bpcal/20220212/HIMGS_1100+2621_arcdrift0003-0003_1050-1150MHz.h5\n",
      "\t/home/ycli/data/fanalysis/bpcal/20220212/HIMGS_1100+2621_arcdrift0004-0004_1050-1150MHz.h5\n",
      "\t/home/ycli/data/fanalysis/bpcal/20220212/HIMGS_1100+2621_arcdrift0005-0005_1050-1150MHz.h5\n",
      "\t/home/ycli/data/fanalysis/bpcal/20220212/HIMGS_1100+2621_arcdrift0006-0006_1050-1150MHz.h5\n",
      "\t/home/ycli/data/fanalysis/bpcal/20220212/HIMGS_1100+2621_arcdrift0007-0007_1050-1150MHz.h5\n",
      "INFO:fpipe.timestream.rfi_flagging:mask freq 1156.450000 - 1217.140000 MHz\n",
      "INFO:fpipe.timestream.rfi_flagging:mask freq 1225.600000 - 1229.600000 MHz\n",
      "INFO:fpipe.timestream.rfi_flagging:mask freq 1244.000000 - 1249.060000 MHz\n",
      "INFO:fpipe.timestream.rfi_flagging:mask freq 1258.520000 - 1293.750000 MHz\n",
      "INFO:tlpipe.pipeline.pipeline:Executing time of Flag.process(): 0:18:55.524308 [ 2022-11-28 11:24:28.856645 - 2022-11-28 11:43:24.380953 ]\n",
      "INFO:tlpipe.pipeline.pipeline:Flag writing data to files:\n",
      "\t/home/ycli/data/fanalysis/rf_sumfeeds/20220212/HIMGS_1100+2621_arcdrift0001-0001_1050-1150MHz.h5\n",
      "\t/home/ycli/data/fanalysis/rf_sumfeeds/20220212/HIMGS_1100+2621_arcdrift0002-0002_1050-1150MHz.h5\n",
      "\t/home/ycli/data/fanalysis/rf_sumfeeds/20220212/HIMGS_1100+2621_arcdrift0003-0003_1050-1150MHz.h5\n",
      "\t/home/ycli/data/fanalysis/rf_sumfeeds/20220212/HIMGS_1100+2621_arcdrift0004-0004_1050-1150MHz.h5\n",
      "\t/home/ycli/data/fanalysis/rf_sumfeeds/20220212/HIMGS_1100+2621_arcdrift0005-0005_1050-1150MHz.h5\n",
      "\t/home/ycli/data/fanalysis/rf_sumfeeds/20220212/HIMGS_1100+2621_arcdrift0006-0006_1050-1150MHz.h5\n",
      "\t/home/ycli/data/fanalysis/rf_sumfeeds/20220212/HIMGS_1100+2621_arcdrift0007-0007_1050-1150MHz.h5\n",
      "INFO:tlpipe.pipeline.pipeline:End the pipeline at 2022-11-28 11:46:33.640680...\n",
      "INFO:tlpipe.pipeline.pipeline:Total run time: 24 minutes 11.77 seconds\n",
      "INFO:tlpipe.pipeline.pipeline:Start the pipeline at 2022-11-28 11:46:33.835605...\n",
      "INFO:tlpipe.pipeline.pipeline:Initializing task: <class 'fpipe.timestream.sir_operate.Sir'>\n"
     ]
    },
    {
     "name": "stdout",
     "output_type": "stream",
     "text": [
      "\n",
      "\n",
      "==========================================\n",
      "=                                        =\n",
      "=        DONE FOR THE PIPELINE!!         =\n",
      "=           CONGRATULATIONS!!            =\n",
      "=                                        =\n",
      "==========================================\n"
     ]
    },
    {
     "name": "stderr",
     "output_type": "stream",
     "text": [
      "INFO:tlpipe.pipeline.pipeline:Sir reading data from files:\n",
      "\t/home/ycli/data/fanalysis/rf_sumfeeds/20220212/HIMGS_1100+2621_arcdrift0001-0001_1050-1150MHz.h5\n",
      "\t/home/ycli/data/fanalysis/rf_sumfeeds/20220212/HIMGS_1100+2621_arcdrift0002-0002_1050-1150MHz.h5\n",
      "\t/home/ycli/data/fanalysis/rf_sumfeeds/20220212/HIMGS_1100+2621_arcdrift0003-0003_1050-1150MHz.h5\n",
      "\t/home/ycli/data/fanalysis/rf_sumfeeds/20220212/HIMGS_1100+2621_arcdrift0004-0004_1050-1150MHz.h5\n",
      "\t/home/ycli/data/fanalysis/rf_sumfeeds/20220212/HIMGS_1100+2621_arcdrift0005-0005_1050-1150MHz.h5\n",
      "\t/home/ycli/data/fanalysis/rf_sumfeeds/20220212/HIMGS_1100+2621_arcdrift0006-0006_1050-1150MHz.h5\n",
      "\t/home/ycli/data/fanalysis/rf_sumfeeds/20220212/HIMGS_1100+2621_arcdrift0007-0007_1050-1150MHz.h5\n",
      "INFO:tlpipe.pipeline.pipeline:End the pipeline at 2022-11-28 11:51:31.677257...\n",
      "INFO:tlpipe.pipeline.pipeline:Total run time: 4 minutes 57.84 seconds\n",
      "INFO:tlpipe.pipeline.pipeline:Start the pipeline at 2022-11-28 11:51:31.871614...\n",
      "INFO:tlpipe.pipeline.pipeline:Initializing task: <class 'fpipe.timestream.freq_rebin.Rebin'>\n"
     ]
    },
    {
     "name": "stdout",
     "output_type": "stream",
     "text": [
      "\n",
      "\n",
      "==========================================\n",
      "=                                        =\n",
      "=        DONE FOR THE PIPELINE!!         =\n",
      "=           CONGRATULATIONS!!            =\n",
      "=                                        =\n",
      "==========================================\n"
     ]
    },
    {
     "name": "stderr",
     "output_type": "stream",
     "text": [
      "INFO:tlpipe.pipeline.pipeline:Rebin reading data from files:\n",
      "\t/home/ycli/data/fanalysis/sir_sumfeeds/20220212/HIMGS_1100+2621_arcdrift0001-0001_1050-1150MHz.h5\n",
      "\t/home/ycli/data/fanalysis/sir_sumfeeds/20220212/HIMGS_1100+2621_arcdrift0002-0002_1050-1150MHz.h5\n",
      "\t/home/ycli/data/fanalysis/sir_sumfeeds/20220212/HIMGS_1100+2621_arcdrift0003-0003_1050-1150MHz.h5\n",
      "\t/home/ycli/data/fanalysis/sir_sumfeeds/20220212/HIMGS_1100+2621_arcdrift0004-0004_1050-1150MHz.h5\n",
      "\t/home/ycli/data/fanalysis/sir_sumfeeds/20220212/HIMGS_1100+2621_arcdrift0005-0005_1050-1150MHz.h5\n",
      "\t/home/ycli/data/fanalysis/sir_sumfeeds/20220212/HIMGS_1100+2621_arcdrift0006-0006_1050-1150MHz.h5\n",
      "\t/home/ycli/data/fanalysis/sir_sumfeeds/20220212/HIMGS_1100+2621_arcdrift0007-0007_1050-1150MHz.h5\n",
      "INFO:tlpipe.pipeline.pipeline:Executing time of Rebin.process(): 0:04:10.449026 [ 2022-11-28 11:52:29.996837 - 2022-11-28 11:56:40.445863 ]\n",
      "INFO:tlpipe.pipeline.pipeline:Rebin writing data to files:\n",
      "\t/home/ycli/data/fanalysis/rb4_sumfeeds/20220212/HIMGS_1100+2621_arcdrift0001-0001_1050-1150MHz.h5\n",
      "\t/home/ycli/data/fanalysis/rb4_sumfeeds/20220212/HIMGS_1100+2621_arcdrift0002-0002_1050-1150MHz.h5\n",
      "\t/home/ycli/data/fanalysis/rb4_sumfeeds/20220212/HIMGS_1100+2621_arcdrift0003-0003_1050-1150MHz.h5\n",
      "\t/home/ycli/data/fanalysis/rb4_sumfeeds/20220212/HIMGS_1100+2621_arcdrift0004-0004_1050-1150MHz.h5\n",
      "\t/home/ycli/data/fanalysis/rb4_sumfeeds/20220212/HIMGS_1100+2621_arcdrift0005-0005_1050-1150MHz.h5\n",
      "\t/home/ycli/data/fanalysis/rb4_sumfeeds/20220212/HIMGS_1100+2621_arcdrift0006-0006_1050-1150MHz.h5\n",
      "\t/home/ycli/data/fanalysis/rb4_sumfeeds/20220212/HIMGS_1100+2621_arcdrift0007-0007_1050-1150MHz.h5\n"
     ]
    },
    {
     "name": "stdout",
     "output_type": "stream",
     "text": [
      "freq resolution reduced from 0.0076904297 to 0.030518 MHz (13106 - 3276)\n"
     ]
    },
    {
     "name": "stderr",
     "output_type": "stream",
     "text": [
      "INFO:tlpipe.pipeline.pipeline:End the pipeline at 2022-11-28 11:57:22.312361...\n",
      "INFO:tlpipe.pipeline.pipeline:Total run time: 5 minutes 50.44 seconds\n",
      "INFO:tlpipe.pipeline.pipeline:Start the pipeline at 2022-11-28 11:57:22.426269...\n",
      "INFO:tlpipe.pipeline.pipeline:Initializing task: <class 'fpipe.timestream.rfi_flagging.Flag'>\n",
      "INFO:tlpipe.pipeline.pipeline:Flag reading data from files:\n",
      "\t/home/ycli/data/fanalysis/bpcal/20220212/HIMGS_1100+2621_arcdrift0001-0001_1150-1250MHz.h5\n",
      "\t/home/ycli/data/fanalysis/bpcal/20220212/HIMGS_1100+2621_arcdrift0002-0002_1150-1250MHz.h5\n",
      "\t/home/ycli/data/fanalysis/bpcal/20220212/HIMGS_1100+2621_arcdrift0003-0003_1150-1250MHz.h5\n",
      "\t/home/ycli/data/fanalysis/bpcal/20220212/HIMGS_1100+2621_arcdrift0004-0004_1150-1250MHz.h5\n",
      "\t/home/ycli/data/fanalysis/bpcal/20220212/HIMGS_1100+2621_arcdrift0005-0005_1150-1250MHz.h5\n",
      "\t/home/ycli/data/fanalysis/bpcal/20220212/HIMGS_1100+2621_arcdrift0006-0006_1150-1250MHz.h5\n",
      "\t/home/ycli/data/fanalysis/bpcal/20220212/HIMGS_1100+2621_arcdrift0007-0007_1150-1250MHz.h5\n"
     ]
    },
    {
     "name": "stdout",
     "output_type": "stream",
     "text": [
      "\n",
      "\n",
      "==========================================\n",
      "=                                        =\n",
      "=        DONE FOR THE PIPELINE!!         =\n",
      "=           CONGRATULATIONS!!            =\n",
      "=                                        =\n",
      "==========================================\n"
     ]
    },
    {
     "name": "stderr",
     "output_type": "stream",
     "text": [
      "INFO:fpipe.timestream.rfi_flagging:mask freq 1156.450000 - 1217.140000 MHz\n",
      "INFO:fpipe.timestream.rfi_flagging:mask freq 1225.600000 - 1229.600000 MHz\n",
      "INFO:fpipe.timestream.rfi_flagging:mask freq 1244.000000 - 1249.060000 MHz\n",
      "INFO:fpipe.timestream.rfi_flagging:mask freq 1258.520000 - 1293.750000 MHz\n",
      "INFO:tlpipe.pipeline.pipeline:Executing time of Flag.process(): 0:17:11.618898 [ 2022-11-28 11:59:02.986428 - 2022-11-28 12:16:14.605326 ]\n",
      "INFO:tlpipe.pipeline.pipeline:Flag writing data to files:\n",
      "\t/home/ycli/data/fanalysis/rf_sumfeeds/20220212/HIMGS_1100+2621_arcdrift0001-0001_1150-1250MHz.h5\n",
      "\t/home/ycli/data/fanalysis/rf_sumfeeds/20220212/HIMGS_1100+2621_arcdrift0002-0002_1150-1250MHz.h5\n",
      "\t/home/ycli/data/fanalysis/rf_sumfeeds/20220212/HIMGS_1100+2621_arcdrift0003-0003_1150-1250MHz.h5\n",
      "\t/home/ycli/data/fanalysis/rf_sumfeeds/20220212/HIMGS_1100+2621_arcdrift0004-0004_1150-1250MHz.h5\n",
      "\t/home/ycli/data/fanalysis/rf_sumfeeds/20220212/HIMGS_1100+2621_arcdrift0005-0005_1150-1250MHz.h5\n",
      "\t/home/ycli/data/fanalysis/rf_sumfeeds/20220212/HIMGS_1100+2621_arcdrift0006-0006_1150-1250MHz.h5\n",
      "\t/home/ycli/data/fanalysis/rf_sumfeeds/20220212/HIMGS_1100+2621_arcdrift0007-0007_1150-1250MHz.h5\n",
      "INFO:tlpipe.pipeline.pipeline:End the pipeline at 2022-11-28 12:19:20.655878...\n",
      "INFO:tlpipe.pipeline.pipeline:Total run time: 21 minutes 58.23 seconds\n",
      "INFO:tlpipe.pipeline.pipeline:Start the pipeline at 2022-11-28 12:19:20.848932...\n",
      "INFO:tlpipe.pipeline.pipeline:Initializing task: <class 'fpipe.timestream.sir_operate.Sir'>\n",
      "INFO:tlpipe.pipeline.pipeline:Sir reading data from files:\n",
      "\t/home/ycli/data/fanalysis/rf_sumfeeds/20220212/HIMGS_1100+2621_arcdrift0001-0001_1150-1250MHz.h5\n",
      "\t/home/ycli/data/fanalysis/rf_sumfeeds/20220212/HIMGS_1100+2621_arcdrift0002-0002_1150-1250MHz.h5\n",
      "\t/home/ycli/data/fanalysis/rf_sumfeeds/20220212/HIMGS_1100+2621_arcdrift0003-0003_1150-1250MHz.h5\n",
      "\t/home/ycli/data/fanalysis/rf_sumfeeds/20220212/HIMGS_1100+2621_arcdrift0004-0004_1150-1250MHz.h5\n",
      "\t/home/ycli/data/fanalysis/rf_sumfeeds/20220212/HIMGS_1100+2621_arcdrift0005-0005_1150-1250MHz.h5\n",
      "\t/home/ycli/data/fanalysis/rf_sumfeeds/20220212/HIMGS_1100+2621_arcdrift0006-0006_1150-1250MHz.h5\n",
      "\t/home/ycli/data/fanalysis/rf_sumfeeds/20220212/HIMGS_1100+2621_arcdrift0007-0007_1150-1250MHz.h5\n"
     ]
    },
    {
     "name": "stdout",
     "output_type": "stream",
     "text": [
      "\n",
      "\n",
      "==========================================\n",
      "=                                        =\n",
      "=        DONE FOR THE PIPELINE!!         =\n",
      "=           CONGRATULATIONS!!            =\n",
      "=                                        =\n",
      "==========================================\n"
     ]
    },
    {
     "name": "stderr",
     "output_type": "stream",
     "text": [
      "INFO:tlpipe.pipeline.pipeline:Executing time of Sir.process(): 0:00:55.687888 [ 2022-11-28 12:20:20.572732 - 2022-11-28 12:21:16.260620 ]\n",
      "INFO:tlpipe.pipeline.pipeline:Sir writing data to files:\n",
      "\t/home/ycli/data/fanalysis/sir_sumfeeds/20220212/HIMGS_1100+2621_arcdrift0001-0001_1150-1250MHz.h5\n",
      "\t/home/ycli/data/fanalysis/sir_sumfeeds/20220212/HIMGS_1100+2621_arcdrift0002-0002_1150-1250MHz.h5\n",
      "\t/home/ycli/data/fanalysis/sir_sumfeeds/20220212/HIMGS_1100+2621_arcdrift0003-0003_1150-1250MHz.h5\n",
      "\t/home/ycli/data/fanalysis/sir_sumfeeds/20220212/HIMGS_1100+2621_arcdrift0004-0004_1150-1250MHz.h5\n",
      "\t/home/ycli/data/fanalysis/sir_sumfeeds/20220212/HIMGS_1100+2621_arcdrift0005-0005_1150-1250MHz.h5\n",
      "\t/home/ycli/data/fanalysis/sir_sumfeeds/20220212/HIMGS_1100+2621_arcdrift0006-0006_1150-1250MHz.h5\n",
      "\t/home/ycli/data/fanalysis/sir_sumfeeds/20220212/HIMGS_1100+2621_arcdrift0007-0007_1150-1250MHz.h5\n",
      "INFO:tlpipe.pipeline.pipeline:End the pipeline at 2022-11-28 12:24:24.413651...\n",
      "INFO:tlpipe.pipeline.pipeline:Total run time: 5 minutes 3.56 seconds\n",
      "INFO:tlpipe.pipeline.pipeline:Start the pipeline at 2022-11-28 12:24:24.610243...\n",
      "INFO:tlpipe.pipeline.pipeline:Initializing task: <class 'fpipe.timestream.freq_rebin.Rebin'>\n",
      "INFO:tlpipe.pipeline.pipeline:Rebin reading data from files:\n",
      "\t/home/ycli/data/fanalysis/sir_sumfeeds/20220212/HIMGS_1100+2621_arcdrift0001-0001_1150-1250MHz.h5\n",
      "\t/home/ycli/data/fanalysis/sir_sumfeeds/20220212/HIMGS_1100+2621_arcdrift0002-0002_1150-1250MHz.h5\n",
      "\t/home/ycli/data/fanalysis/sir_sumfeeds/20220212/HIMGS_1100+2621_arcdrift0003-0003_1150-1250MHz.h5\n",
      "\t/home/ycli/data/fanalysis/sir_sumfeeds/20220212/HIMGS_1100+2621_arcdrift0004-0004_1150-1250MHz.h5\n",
      "\t/home/ycli/data/fanalysis/sir_sumfeeds/20220212/HIMGS_1100+2621_arcdrift0005-0005_1150-1250MHz.h5\n",
      "\t/home/ycli/data/fanalysis/sir_sumfeeds/20220212/HIMGS_1100+2621_arcdrift0006-0006_1150-1250MHz.h5\n",
      "\t/home/ycli/data/fanalysis/sir_sumfeeds/20220212/HIMGS_1100+2621_arcdrift0007-0007_1150-1250MHz.h5\n"
     ]
    },
    {
     "name": "stdout",
     "output_type": "stream",
     "text": [
      "\n",
      "\n",
      "==========================================\n",
      "=                                        =\n",
      "=        DONE FOR THE PIPELINE!!         =\n",
      "=           CONGRATULATIONS!!            =\n",
      "=                                        =\n",
      "==========================================\n"
     ]
    },
    {
     "name": "stderr",
     "output_type": "stream",
     "text": [
      "INFO:tlpipe.pipeline.pipeline:Executing time of Rebin.process(): 0:04:38.087563 [ 2022-11-28 12:27:00.337109 - 2022-11-28 12:31:38.424672 ]\n",
      "INFO:tlpipe.pipeline.pipeline:Rebin writing data to files:\n",
      "\t/home/ycli/data/fanalysis/rb4_sumfeeds/20220212/HIMGS_1100+2621_arcdrift0001-0001_1150-1250MHz.h5\n",
      "\t/home/ycli/data/fanalysis/rb4_sumfeeds/20220212/HIMGS_1100+2621_arcdrift0002-0002_1150-1250MHz.h5\n",
      "\t/home/ycli/data/fanalysis/rb4_sumfeeds/20220212/HIMGS_1100+2621_arcdrift0003-0003_1150-1250MHz.h5\n",
      "\t/home/ycli/data/fanalysis/rb4_sumfeeds/20220212/HIMGS_1100+2621_arcdrift0004-0004_1150-1250MHz.h5\n",
      "\t/home/ycli/data/fanalysis/rb4_sumfeeds/20220212/HIMGS_1100+2621_arcdrift0005-0005_1150-1250MHz.h5\n",
      "\t/home/ycli/data/fanalysis/rb4_sumfeeds/20220212/HIMGS_1100+2621_arcdrift0006-0006_1150-1250MHz.h5\n",
      "\t/home/ycli/data/fanalysis/rb4_sumfeeds/20220212/HIMGS_1100+2621_arcdrift0007-0007_1150-1250MHz.h5\n"
     ]
    },
    {
     "name": "stdout",
     "output_type": "stream",
     "text": [
      "freq resolution reduced from 0.0075683594 to 0.030518 MHz (13106 - 3276)\n"
     ]
    },
    {
     "name": "stderr",
     "output_type": "stream",
     "text": [
      "INFO:tlpipe.pipeline.pipeline:End the pipeline at 2022-11-28 12:32:19.808573...\n",
      "INFO:tlpipe.pipeline.pipeline:Total run time: 7 minutes 55.20 seconds\n",
      "INFO:tlpipe.pipeline.pipeline:Start the pipeline at 2022-11-28 12:32:19.940469...\n",
      "INFO:tlpipe.pipeline.pipeline:Initializing task: <class 'fpipe.timestream.rfi_flagging.Flag'>\n",
      "INFO:tlpipe.pipeline.pipeline:Flag reading data from files:\n",
      "\t/home/ycli/data/fanalysis/bpcal/20220212/HIMGS_1100+2621_arcdrift0001-0001_1250-1450MHz.h5\n",
      "\t/home/ycli/data/fanalysis/bpcal/20220212/HIMGS_1100+2621_arcdrift0002-0002_1250-1450MHz.h5\n",
      "\t/home/ycli/data/fanalysis/bpcal/20220212/HIMGS_1100+2621_arcdrift0003-0003_1250-1450MHz.h5\n",
      "\t/home/ycli/data/fanalysis/bpcal/20220212/HIMGS_1100+2621_arcdrift0004-0004_1250-1450MHz.h5\n",
      "\t/home/ycli/data/fanalysis/bpcal/20220212/HIMGS_1100+2621_arcdrift0005-0005_1250-1450MHz.h5\n",
      "\t/home/ycli/data/fanalysis/bpcal/20220212/HIMGS_1100+2621_arcdrift0006-0006_1250-1450MHz.h5\n",
      "\t/home/ycli/data/fanalysis/bpcal/20220212/HIMGS_1100+2621_arcdrift0007-0007_1250-1450MHz.h5\n"
     ]
    },
    {
     "name": "stdout",
     "output_type": "stream",
     "text": [
      "\n",
      "\n",
      "==========================================\n",
      "=                                        =\n",
      "=        DONE FOR THE PIPELINE!!         =\n",
      "=           CONGRATULATIONS!!            =\n",
      "=                                        =\n",
      "==========================================\n"
     ]
    },
    {
     "name": "stderr",
     "output_type": "stream",
     "text": [
      "INFO:fpipe.timestream.rfi_flagging:mask freq 1156.450000 - 1217.140000 MHz\n",
      "INFO:fpipe.timestream.rfi_flagging:mask freq 1225.600000 - 1229.600000 MHz\n",
      "INFO:fpipe.timestream.rfi_flagging:mask freq 1244.000000 - 1249.060000 MHz\n",
      "INFO:fpipe.timestream.rfi_flagging:mask freq 1258.520000 - 1293.750000 MHz\n",
      "INFO:tlpipe.pipeline.pipeline:Executing time of Flag.process(): 0:39:16.455354 [ 2022-11-28 12:35:01.964937 - 2022-11-28 13:14:18.420291 ]\n",
      "INFO:tlpipe.pipeline.pipeline:Flag writing data to files:\n",
      "\t/home/ycli/data/fanalysis/rf_sumfeeds/20220212/HIMGS_1100+2621_arcdrift0001-0001_1250-1450MHz.h5\n",
      "\t/home/ycli/data/fanalysis/rf_sumfeeds/20220212/HIMGS_1100+2621_arcdrift0002-0002_1250-1450MHz.h5\n",
      "\t/home/ycli/data/fanalysis/rf_sumfeeds/20220212/HIMGS_1100+2621_arcdrift0003-0003_1250-1450MHz.h5\n",
      "\t/home/ycli/data/fanalysis/rf_sumfeeds/20220212/HIMGS_1100+2621_arcdrift0004-0004_1250-1450MHz.h5\n",
      "\t/home/ycli/data/fanalysis/rf_sumfeeds/20220212/HIMGS_1100+2621_arcdrift0005-0005_1250-1450MHz.h5\n",
      "\t/home/ycli/data/fanalysis/rf_sumfeeds/20220212/HIMGS_1100+2621_arcdrift0006-0006_1250-1450MHz.h5\n",
      "\t/home/ycli/data/fanalysis/rf_sumfeeds/20220212/HIMGS_1100+2621_arcdrift0007-0007_1250-1450MHz.h5\n",
      "INFO:tlpipe.pipeline.pipeline:End the pipeline at 2022-11-28 13:34:54.065069...\n",
      "INFO:tlpipe.pipeline.pipeline:Total run time: 1 hour 2 minutes 34.12 seconds\n",
      "INFO:tlpipe.pipeline.pipeline:Start the pipeline at 2022-11-28 13:34:55.907466...\n",
      "INFO:tlpipe.pipeline.pipeline:Initializing task: <class 'fpipe.timestream.sir_operate.Sir'>\n",
      "INFO:tlpipe.pipeline.pipeline:Sir reading data from files:\n",
      "\t/home/ycli/data/fanalysis/rf_sumfeeds/20220212/HIMGS_1100+2621_arcdrift0001-0001_1250-1450MHz.h5\n",
      "\t/home/ycli/data/fanalysis/rf_sumfeeds/20220212/HIMGS_1100+2621_arcdrift0002-0002_1250-1450MHz.h5\n",
      "\t/home/ycli/data/fanalysis/rf_sumfeeds/20220212/HIMGS_1100+2621_arcdrift0003-0003_1250-1450MHz.h5\n",
      "\t/home/ycli/data/fanalysis/rf_sumfeeds/20220212/HIMGS_1100+2621_arcdrift0004-0004_1250-1450MHz.h5\n",
      "\t/home/ycli/data/fanalysis/rf_sumfeeds/20220212/HIMGS_1100+2621_arcdrift0005-0005_1250-1450MHz.h5\n",
      "\t/home/ycli/data/fanalysis/rf_sumfeeds/20220212/HIMGS_1100+2621_arcdrift0006-0006_1250-1450MHz.h5\n",
      "\t/home/ycli/data/fanalysis/rf_sumfeeds/20220212/HIMGS_1100+2621_arcdrift0007-0007_1250-1450MHz.h5\n"
     ]
    },
    {
     "name": "stdout",
     "output_type": "stream",
     "text": [
      "\n",
      "\n",
      "==========================================\n",
      "=                                        =\n",
      "=        DONE FOR THE PIPELINE!!         =\n",
      "=           CONGRATULATIONS!!            =\n",
      "=                                        =\n",
      "==========================================\n"
     ]
    },
    {
     "name": "stderr",
     "output_type": "stream",
     "text": [
      "INFO:tlpipe.pipeline.pipeline:Executing time of Sir.process(): 0:03:10.916208 [ 2022-11-28 13:36:33.387239 - 2022-11-28 13:39:44.303447 ]\n",
      "INFO:tlpipe.pipeline.pipeline:Sir writing data to files:\n",
      "\t/home/ycli/data/fanalysis/sir_sumfeeds/20220212/HIMGS_1100+2621_arcdrift0001-0001_1250-1450MHz.h5\n",
      "\t/home/ycli/data/fanalysis/sir_sumfeeds/20220212/HIMGS_1100+2621_arcdrift0002-0002_1250-1450MHz.h5\n",
      "\t/home/ycli/data/fanalysis/sir_sumfeeds/20220212/HIMGS_1100+2621_arcdrift0003-0003_1250-1450MHz.h5\n",
      "\t/home/ycli/data/fanalysis/sir_sumfeeds/20220212/HIMGS_1100+2621_arcdrift0004-0004_1250-1450MHz.h5\n",
      "\t/home/ycli/data/fanalysis/sir_sumfeeds/20220212/HIMGS_1100+2621_arcdrift0005-0005_1250-1450MHz.h5\n",
      "\t/home/ycli/data/fanalysis/sir_sumfeeds/20220212/HIMGS_1100+2621_arcdrift0006-0006_1250-1450MHz.h5\n",
      "\t/home/ycli/data/fanalysis/sir_sumfeeds/20220212/HIMGS_1100+2621_arcdrift0007-0007_1250-1450MHz.h5\n",
      "INFO:tlpipe.pipeline.pipeline:End the pipeline at 2022-11-28 14:02:14.701343...\n",
      "INFO:tlpipe.pipeline.pipeline:Total run time: 27 minutes 18.79 seconds\n",
      "INFO:tlpipe.pipeline.pipeline:Start the pipeline at 2022-11-28 14:02:16.566568...\n",
      "INFO:tlpipe.pipeline.pipeline:Initializing task: <class 'fpipe.timestream.freq_rebin.Rebin'>\n",
      "INFO:tlpipe.pipeline.pipeline:Rebin reading data from files:\n",
      "\t/home/ycli/data/fanalysis/sir_sumfeeds/20220212/HIMGS_1100+2621_arcdrift0001-0001_1250-1450MHz.h5\n",
      "\t/home/ycli/data/fanalysis/sir_sumfeeds/20220212/HIMGS_1100+2621_arcdrift0002-0002_1250-1450MHz.h5\n",
      "\t/home/ycli/data/fanalysis/sir_sumfeeds/20220212/HIMGS_1100+2621_arcdrift0003-0003_1250-1450MHz.h5\n",
      "\t/home/ycli/data/fanalysis/sir_sumfeeds/20220212/HIMGS_1100+2621_arcdrift0004-0004_1250-1450MHz.h5\n",
      "\t/home/ycli/data/fanalysis/sir_sumfeeds/20220212/HIMGS_1100+2621_arcdrift0005-0005_1250-1450MHz.h5\n",
      "\t/home/ycli/data/fanalysis/sir_sumfeeds/20220212/HIMGS_1100+2621_arcdrift0006-0006_1250-1450MHz.h5\n",
      "\t/home/ycli/data/fanalysis/sir_sumfeeds/20220212/HIMGS_1100+2621_arcdrift0007-0007_1250-1450MHz.h5\n"
     ]
    },
    {
     "name": "stdout",
     "output_type": "stream",
     "text": [
      "\n",
      "\n",
      "==========================================\n",
      "=                                        =\n",
      "=        DONE FOR THE PIPELINE!!         =\n",
      "=           CONGRATULATIONS!!            =\n",
      "=                                        =\n",
      "==========================================\n"
     ]
    },
    {
     "name": "stderr",
     "output_type": "stream",
     "text": [
      "INFO:tlpipe.pipeline.pipeline:Executing time of Rebin.process(): 0:10:24.603606 [ 2022-11-28 14:05:55.328179 - 2022-11-28 14:16:19.931785 ]\n",
      "INFO:tlpipe.pipeline.pipeline:Rebin writing data to files:\n",
      "\t/home/ycli/data/fanalysis/rb4_sumfeeds/20220212/HIMGS_1100+2621_arcdrift0001-0001_1250-1450MHz.h5\n",
      "\t/home/ycli/data/fanalysis/rb4_sumfeeds/20220212/HIMGS_1100+2621_arcdrift0002-0002_1250-1450MHz.h5\n",
      "\t/home/ycli/data/fanalysis/rb4_sumfeeds/20220212/HIMGS_1100+2621_arcdrift0003-0003_1250-1450MHz.h5\n",
      "\t/home/ycli/data/fanalysis/rb4_sumfeeds/20220212/HIMGS_1100+2621_arcdrift0004-0004_1250-1450MHz.h5\n",
      "\t/home/ycli/data/fanalysis/rb4_sumfeeds/20220212/HIMGS_1100+2621_arcdrift0005-0005_1250-1450MHz.h5\n",
      "\t/home/ycli/data/fanalysis/rb4_sumfeeds/20220212/HIMGS_1100+2621_arcdrift0006-0006_1250-1450MHz.h5\n",
      "\t/home/ycli/data/fanalysis/rb4_sumfeeds/20220212/HIMGS_1100+2621_arcdrift0007-0007_1250-1450MHz.h5\n"
     ]
    },
    {
     "name": "stdout",
     "output_type": "stream",
     "text": [
      "freq resolution reduced from 0.0076904297 to 0.030518 MHz (26213 - 6553)\n"
     ]
    },
    {
     "name": "stderr",
     "output_type": "stream",
     "text": [
      "INFO:tlpipe.pipeline.pipeline:End the pipeline at 2022-11-28 14:17:41.573541...\n",
      "INFO:tlpipe.pipeline.pipeline:Total run time: 15 minutes 25.01 seconds\n",
      "INFO:tlpipe.pipeline.pipeline:Start the pipeline at 2022-11-28 14:17:41.726293...\n",
      "INFO:tlpipe.pipeline.pipeline:Initializing task: <class 'fpipe.timestream.rfi_flagging.Flag'>\n"
     ]
    },
    {
     "name": "stdout",
     "output_type": "stream",
     "text": [
      "\n",
      "\n",
      "==========================================\n",
      "=                                        =\n",
      "=        DONE FOR THE PIPELINE!!         =\n",
      "=           CONGRATULATIONS!!            =\n",
      "=                                        =\n",
      "==========================================\n"
     ]
    },
    {
     "name": "stderr",
     "output_type": "stream",
     "text": [
      "INFO:tlpipe.pipeline.pipeline:Flag reading data from files:\n",
      "\t/home/ycli/data/fanalysis/bpcal/20220213/HIMGS_1100+2632_arcdrift0001-0001_1050-1150MHz.h5\n",
      "\t/home/ycli/data/fanalysis/bpcal/20220213/HIMGS_1100+2632_arcdrift0002-0002_1050-1150MHz.h5\n",
      "\t/home/ycli/data/fanalysis/bpcal/20220213/HIMGS_1100+2632_arcdrift0003-0003_1050-1150MHz.h5\n",
      "\t/home/ycli/data/fanalysis/bpcal/20220213/HIMGS_1100+2632_arcdrift0004-0004_1050-1150MHz.h5\n",
      "\t/home/ycli/data/fanalysis/bpcal/20220213/HIMGS_1100+2632_arcdrift0005-0005_1050-1150MHz.h5\n",
      "\t/home/ycli/data/fanalysis/bpcal/20220213/HIMGS_1100+2632_arcdrift0006-0006_1050-1150MHz.h5\n",
      "\t/home/ycli/data/fanalysis/bpcal/20220213/HIMGS_1100+2632_arcdrift0007-0007_1050-1150MHz.h5\n",
      "INFO:fpipe.timestream.rfi_flagging:mask freq 1156.450000 - 1217.140000 MHz\n",
      "INFO:fpipe.timestream.rfi_flagging:mask freq 1225.600000 - 1229.600000 MHz\n",
      "INFO:fpipe.timestream.rfi_flagging:mask freq 1244.000000 - 1249.060000 MHz\n",
      "INFO:fpipe.timestream.rfi_flagging:mask freq 1258.520000 - 1293.750000 MHz\n",
      "INFO:tlpipe.pipeline.pipeline:Executing time of Flag.process(): 0:18:47.007393 [ 2022-11-28 14:19:25.289384 - 2022-11-28 14:38:12.296777 ]\n",
      "INFO:tlpipe.pipeline.pipeline:Flag writing data to files:\n",
      "\t/home/ycli/data/fanalysis/rf_sumfeeds/20220213/HIMGS_1100+2632_arcdrift0001-0001_1050-1150MHz.h5\n",
      "\t/home/ycli/data/fanalysis/rf_sumfeeds/20220213/HIMGS_1100+2632_arcdrift0002-0002_1050-1150MHz.h5\n",
      "\t/home/ycli/data/fanalysis/rf_sumfeeds/20220213/HIMGS_1100+2632_arcdrift0003-0003_1050-1150MHz.h5\n",
      "\t/home/ycli/data/fanalysis/rf_sumfeeds/20220213/HIMGS_1100+2632_arcdrift0004-0004_1050-1150MHz.h5\n",
      "\t/home/ycli/data/fanalysis/rf_sumfeeds/20220213/HIMGS_1100+2632_arcdrift0005-0005_1050-1150MHz.h5\n",
      "\t/home/ycli/data/fanalysis/rf_sumfeeds/20220213/HIMGS_1100+2632_arcdrift0006-0006_1050-1150MHz.h5\n",
      "\t/home/ycli/data/fanalysis/rf_sumfeeds/20220213/HIMGS_1100+2632_arcdrift0007-0007_1050-1150MHz.h5\n",
      "INFO:tlpipe.pipeline.pipeline:End the pipeline at 2022-11-28 14:41:23.374627...\n",
      "INFO:tlpipe.pipeline.pipeline:Total run time: 23 minutes 41.65 seconds\n",
      "INFO:tlpipe.pipeline.pipeline:Start the pipeline at 2022-11-28 14:41:23.541468...\n",
      "INFO:tlpipe.pipeline.pipeline:Initializing task: <class 'fpipe.timestream.sir_operate.Sir'>\n",
      "INFO:tlpipe.pipeline.pipeline:Sir reading data from files:\n",
      "\t/home/ycli/data/fanalysis/rf_sumfeeds/20220213/HIMGS_1100+2632_arcdrift0001-0001_1050-1150MHz.h5\n",
      "\t/home/ycli/data/fanalysis/rf_sumfeeds/20220213/HIMGS_1100+2632_arcdrift0002-0002_1050-1150MHz.h5\n",
      "\t/home/ycli/data/fanalysis/rf_sumfeeds/20220213/HIMGS_1100+2632_arcdrift0003-0003_1050-1150MHz.h5\n",
      "\t/home/ycli/data/fanalysis/rf_sumfeeds/20220213/HIMGS_1100+2632_arcdrift0004-0004_1050-1150MHz.h5\n",
      "\t/home/ycli/data/fanalysis/rf_sumfeeds/20220213/HIMGS_1100+2632_arcdrift0005-0005_1050-1150MHz.h5\n",
      "\t/home/ycli/data/fanalysis/rf_sumfeeds/20220213/HIMGS_1100+2632_arcdrift0006-0006_1050-1150MHz.h5\n",
      "\t/home/ycli/data/fanalysis/rf_sumfeeds/20220213/HIMGS_1100+2632_arcdrift0007-0007_1050-1150MHz.h5\n"
     ]
    },
    {
     "name": "stdout",
     "output_type": "stream",
     "text": [
      "\n",
      "\n",
      "==========================================\n",
      "=                                        =\n",
      "=        DONE FOR THE PIPELINE!!         =\n",
      "=           CONGRATULATIONS!!            =\n",
      "=                                        =\n",
      "==========================================\n"
     ]
    },
    {
     "name": "stderr",
     "output_type": "stream",
     "text": [
      "INFO:tlpipe.pipeline.pipeline:Executing time of Sir.process(): 0:00:55.662948 [ 2022-11-28 14:42:12.508902 - 2022-11-28 14:43:08.171850 ]\n",
      "INFO:tlpipe.pipeline.pipeline:Sir writing data to files:\n",
      "\t/home/ycli/data/fanalysis/sir_sumfeeds/20220213/HIMGS_1100+2632_arcdrift0001-0001_1050-1150MHz.h5\n",
      "\t/home/ycli/data/fanalysis/sir_sumfeeds/20220213/HIMGS_1100+2632_arcdrift0002-0002_1050-1150MHz.h5\n",
      "\t/home/ycli/data/fanalysis/sir_sumfeeds/20220213/HIMGS_1100+2632_arcdrift0003-0003_1050-1150MHz.h5\n",
      "\t/home/ycli/data/fanalysis/sir_sumfeeds/20220213/HIMGS_1100+2632_arcdrift0004-0004_1050-1150MHz.h5\n",
      "\t/home/ycli/data/fanalysis/sir_sumfeeds/20220213/HIMGS_1100+2632_arcdrift0005-0005_1050-1150MHz.h5\n",
      "\t/home/ycli/data/fanalysis/sir_sumfeeds/20220213/HIMGS_1100+2632_arcdrift0006-0006_1050-1150MHz.h5\n",
      "\t/home/ycli/data/fanalysis/sir_sumfeeds/20220213/HIMGS_1100+2632_arcdrift0007-0007_1050-1150MHz.h5\n",
      "INFO:tlpipe.pipeline.pipeline:End the pipeline at 2022-11-28 14:46:11.163480...\n",
      "INFO:tlpipe.pipeline.pipeline:Total run time: 4 minutes 47.62 seconds\n",
      "INFO:tlpipe.pipeline.pipeline:Start the pipeline at 2022-11-28 14:46:11.333190...\n",
      "INFO:tlpipe.pipeline.pipeline:Initializing task: <class 'fpipe.timestream.freq_rebin.Rebin'>\n",
      "INFO:tlpipe.pipeline.pipeline:Rebin reading data from files:\n",
      "\t/home/ycli/data/fanalysis/sir_sumfeeds/20220213/HIMGS_1100+2632_arcdrift0001-0001_1050-1150MHz.h5\n",
      "\t/home/ycli/data/fanalysis/sir_sumfeeds/20220213/HIMGS_1100+2632_arcdrift0002-0002_1050-1150MHz.h5\n",
      "\t/home/ycli/data/fanalysis/sir_sumfeeds/20220213/HIMGS_1100+2632_arcdrift0003-0003_1050-1150MHz.h5\n",
      "\t/home/ycli/data/fanalysis/sir_sumfeeds/20220213/HIMGS_1100+2632_arcdrift0004-0004_1050-1150MHz.h5\n",
      "\t/home/ycli/data/fanalysis/sir_sumfeeds/20220213/HIMGS_1100+2632_arcdrift0005-0005_1050-1150MHz.h5\n",
      "\t/home/ycli/data/fanalysis/sir_sumfeeds/20220213/HIMGS_1100+2632_arcdrift0006-0006_1050-1150MHz.h5\n",
      "\t/home/ycli/data/fanalysis/sir_sumfeeds/20220213/HIMGS_1100+2632_arcdrift0007-0007_1050-1150MHz.h5\n"
     ]
    },
    {
     "name": "stdout",
     "output_type": "stream",
     "text": [
      "\n",
      "\n",
      "==========================================\n",
      "=                                        =\n",
      "=        DONE FOR THE PIPELINE!!         =\n",
      "=           CONGRATULATIONS!!            =\n",
      "=                                        =\n",
      "==========================================\n"
     ]
    },
    {
     "name": "stderr",
     "output_type": "stream",
     "text": [
      "INFO:tlpipe.pipeline.pipeline:Executing time of Rebin.process(): 0:04:08.855889 [ 2022-11-28 14:48:26.419338 - 2022-11-28 14:52:35.275227 ]\n",
      "INFO:tlpipe.pipeline.pipeline:Rebin writing data to files:\n",
      "\t/home/ycli/data/fanalysis/rb4_sumfeeds/20220213/HIMGS_1100+2632_arcdrift0001-0001_1050-1150MHz.h5\n",
      "\t/home/ycli/data/fanalysis/rb4_sumfeeds/20220213/HIMGS_1100+2632_arcdrift0002-0002_1050-1150MHz.h5\n",
      "\t/home/ycli/data/fanalysis/rb4_sumfeeds/20220213/HIMGS_1100+2632_arcdrift0003-0003_1050-1150MHz.h5\n",
      "\t/home/ycli/data/fanalysis/rb4_sumfeeds/20220213/HIMGS_1100+2632_arcdrift0004-0004_1050-1150MHz.h5\n",
      "\t/home/ycli/data/fanalysis/rb4_sumfeeds/20220213/HIMGS_1100+2632_arcdrift0005-0005_1050-1150MHz.h5\n",
      "\t/home/ycli/data/fanalysis/rb4_sumfeeds/20220213/HIMGS_1100+2632_arcdrift0006-0006_1050-1150MHz.h5\n",
      "\t/home/ycli/data/fanalysis/rb4_sumfeeds/20220213/HIMGS_1100+2632_arcdrift0007-0007_1050-1150MHz.h5\n"
     ]
    },
    {
     "name": "stdout",
     "output_type": "stream",
     "text": [
      "freq resolution reduced from 0.0076904297 to 0.030518 MHz (13106 - 3276)\n"
     ]
    },
    {
     "name": "stderr",
     "output_type": "stream",
     "text": [
      "INFO:tlpipe.pipeline.pipeline:End the pipeline at 2022-11-28 14:53:16.042441...\n",
      "INFO:tlpipe.pipeline.pipeline:Total run time: 7 minutes 4.71 seconds\n",
      "INFO:tlpipe.pipeline.pipeline:Start the pipeline at 2022-11-28 14:53:16.176087...\n",
      "INFO:tlpipe.pipeline.pipeline:Initializing task: <class 'fpipe.timestream.rfi_flagging.Flag'>\n"
     ]
    },
    {
     "name": "stdout",
     "output_type": "stream",
     "text": [
      "\n",
      "\n",
      "==========================================\n",
      "=                                        =\n",
      "=        DONE FOR THE PIPELINE!!         =\n",
      "=           CONGRATULATIONS!!            =\n",
      "=                                        =\n",
      "==========================================\n"
     ]
    },
    {
     "name": "stderr",
     "output_type": "stream",
     "text": [
      "INFO:tlpipe.pipeline.pipeline:Flag reading data from files:\n",
      "\t/home/ycli/data/fanalysis/bpcal/20220213/HIMGS_1100+2632_arcdrift0001-0001_1150-1250MHz.h5\n",
      "\t/home/ycli/data/fanalysis/bpcal/20220213/HIMGS_1100+2632_arcdrift0002-0002_1150-1250MHz.h5\n",
      "\t/home/ycli/data/fanalysis/bpcal/20220213/HIMGS_1100+2632_arcdrift0003-0003_1150-1250MHz.h5\n",
      "\t/home/ycli/data/fanalysis/bpcal/20220213/HIMGS_1100+2632_arcdrift0004-0004_1150-1250MHz.h5\n",
      "\t/home/ycli/data/fanalysis/bpcal/20220213/HIMGS_1100+2632_arcdrift0005-0005_1150-1250MHz.h5\n",
      "\t/home/ycli/data/fanalysis/bpcal/20220213/HIMGS_1100+2632_arcdrift0006-0006_1150-1250MHz.h5\n",
      "\t/home/ycli/data/fanalysis/bpcal/20220213/HIMGS_1100+2632_arcdrift0007-0007_1150-1250MHz.h5\n",
      "INFO:fpipe.timestream.rfi_flagging:mask freq 1156.450000 - 1217.140000 MHz\n",
      "INFO:fpipe.timestream.rfi_flagging:mask freq 1225.600000 - 1229.600000 MHz\n",
      "INFO:fpipe.timestream.rfi_flagging:mask freq 1244.000000 - 1249.060000 MHz\n",
      "INFO:fpipe.timestream.rfi_flagging:mask freq 1258.520000 - 1293.750000 MHz\n",
      "INFO:tlpipe.pipeline.pipeline:Executing time of Flag.process(): 0:17:12.712049 [ 2022-11-28 14:54:44.986917 - 2022-11-28 15:11:57.698966 ]\n",
      "INFO:tlpipe.pipeline.pipeline:Flag writing data to files:\n",
      "\t/home/ycli/data/fanalysis/rf_sumfeeds/20220213/HIMGS_1100+2632_arcdrift0001-0001_1150-1250MHz.h5\n",
      "\t/home/ycli/data/fanalysis/rf_sumfeeds/20220213/HIMGS_1100+2632_arcdrift0002-0002_1150-1250MHz.h5\n",
      "\t/home/ycli/data/fanalysis/rf_sumfeeds/20220213/HIMGS_1100+2632_arcdrift0003-0003_1150-1250MHz.h5\n",
      "\t/home/ycli/data/fanalysis/rf_sumfeeds/20220213/HIMGS_1100+2632_arcdrift0004-0004_1150-1250MHz.h5\n",
      "\t/home/ycli/data/fanalysis/rf_sumfeeds/20220213/HIMGS_1100+2632_arcdrift0005-0005_1150-1250MHz.h5\n",
      "\t/home/ycli/data/fanalysis/rf_sumfeeds/20220213/HIMGS_1100+2632_arcdrift0006-0006_1150-1250MHz.h5\n",
      "\t/home/ycli/data/fanalysis/rf_sumfeeds/20220213/HIMGS_1100+2632_arcdrift0007-0007_1150-1250MHz.h5\n",
      "INFO:tlpipe.pipeline.pipeline:End the pipeline at 2022-11-28 15:15:02.681338...\n",
      "INFO:tlpipe.pipeline.pipeline:Total run time: 21 minutes 46.51 seconds\n",
      "INFO:tlpipe.pipeline.pipeline:Start the pipeline at 2022-11-28 15:15:02.883791...\n",
      "INFO:tlpipe.pipeline.pipeline:Initializing task: <class 'fpipe.timestream.sir_operate.Sir'>\n",
      "INFO:tlpipe.pipeline.pipeline:Sir reading data from files:\n",
      "\t/home/ycli/data/fanalysis/rf_sumfeeds/20220213/HIMGS_1100+2632_arcdrift0001-0001_1150-1250MHz.h5\n",
      "\t/home/ycli/data/fanalysis/rf_sumfeeds/20220213/HIMGS_1100+2632_arcdrift0002-0002_1150-1250MHz.h5\n",
      "\t/home/ycli/data/fanalysis/rf_sumfeeds/20220213/HIMGS_1100+2632_arcdrift0003-0003_1150-1250MHz.h5\n",
      "\t/home/ycli/data/fanalysis/rf_sumfeeds/20220213/HIMGS_1100+2632_arcdrift0004-0004_1150-1250MHz.h5\n",
      "\t/home/ycli/data/fanalysis/rf_sumfeeds/20220213/HIMGS_1100+2632_arcdrift0005-0005_1150-1250MHz.h5\n",
      "\t/home/ycli/data/fanalysis/rf_sumfeeds/20220213/HIMGS_1100+2632_arcdrift0006-0006_1150-1250MHz.h5\n",
      "\t/home/ycli/data/fanalysis/rf_sumfeeds/20220213/HIMGS_1100+2632_arcdrift0007-0007_1150-1250MHz.h5\n"
     ]
    },
    {
     "name": "stdout",
     "output_type": "stream",
     "text": [
      "\n",
      "\n",
      "==========================================\n",
      "=                                        =\n",
      "=        DONE FOR THE PIPELINE!!         =\n",
      "=           CONGRATULATIONS!!            =\n",
      "=                                        =\n",
      "==========================================\n"
     ]
    },
    {
     "name": "stderr",
     "output_type": "stream",
     "text": [
      "INFO:tlpipe.pipeline.pipeline:Executing time of Sir.process(): 0:00:55.998695 [ 2022-11-28 15:15:51.539121 - 2022-11-28 15:16:47.537816 ]\n",
      "INFO:tlpipe.pipeline.pipeline:Sir writing data to files:\n",
      "\t/home/ycli/data/fanalysis/sir_sumfeeds/20220213/HIMGS_1100+2632_arcdrift0001-0001_1150-1250MHz.h5\n",
      "\t/home/ycli/data/fanalysis/sir_sumfeeds/20220213/HIMGS_1100+2632_arcdrift0002-0002_1150-1250MHz.h5\n",
      "\t/home/ycli/data/fanalysis/sir_sumfeeds/20220213/HIMGS_1100+2632_arcdrift0003-0003_1150-1250MHz.h5\n",
      "\t/home/ycli/data/fanalysis/sir_sumfeeds/20220213/HIMGS_1100+2632_arcdrift0004-0004_1150-1250MHz.h5\n",
      "\t/home/ycli/data/fanalysis/sir_sumfeeds/20220213/HIMGS_1100+2632_arcdrift0005-0005_1150-1250MHz.h5\n",
      "\t/home/ycli/data/fanalysis/sir_sumfeeds/20220213/HIMGS_1100+2632_arcdrift0006-0006_1150-1250MHz.h5\n",
      "\t/home/ycli/data/fanalysis/sir_sumfeeds/20220213/HIMGS_1100+2632_arcdrift0007-0007_1150-1250MHz.h5\n",
      "INFO:tlpipe.pipeline.pipeline:End the pipeline at 2022-11-28 15:19:59.272053...\n",
      "INFO:tlpipe.pipeline.pipeline:Total run time: 4 minutes 56.39 seconds\n",
      "INFO:tlpipe.pipeline.pipeline:Start the pipeline at 2022-11-28 15:19:59.466285...\n",
      "INFO:tlpipe.pipeline.pipeline:Initializing task: <class 'fpipe.timestream.freq_rebin.Rebin'>\n",
      "INFO:tlpipe.pipeline.pipeline:Rebin reading data from files:\n",
      "\t/home/ycli/data/fanalysis/sir_sumfeeds/20220213/HIMGS_1100+2632_arcdrift0001-0001_1150-1250MHz.h5\n",
      "\t/home/ycli/data/fanalysis/sir_sumfeeds/20220213/HIMGS_1100+2632_arcdrift0002-0002_1150-1250MHz.h5\n",
      "\t/home/ycli/data/fanalysis/sir_sumfeeds/20220213/HIMGS_1100+2632_arcdrift0003-0003_1150-1250MHz.h5\n",
      "\t/home/ycli/data/fanalysis/sir_sumfeeds/20220213/HIMGS_1100+2632_arcdrift0004-0004_1150-1250MHz.h5\n",
      "\t/home/ycli/data/fanalysis/sir_sumfeeds/20220213/HIMGS_1100+2632_arcdrift0005-0005_1150-1250MHz.h5\n",
      "\t/home/ycli/data/fanalysis/sir_sumfeeds/20220213/HIMGS_1100+2632_arcdrift0006-0006_1150-1250MHz.h5\n",
      "\t/home/ycli/data/fanalysis/sir_sumfeeds/20220213/HIMGS_1100+2632_arcdrift0007-0007_1150-1250MHz.h5\n"
     ]
    },
    {
     "name": "stdout",
     "output_type": "stream",
     "text": [
      "\n",
      "\n",
      "==========================================\n",
      "=                                        =\n",
      "=        DONE FOR THE PIPELINE!!         =\n",
      "=           CONGRATULATIONS!!            =\n",
      "=                                        =\n",
      "==========================================\n"
     ]
    },
    {
     "name": "stderr",
     "output_type": "stream",
     "text": [
      "INFO:tlpipe.pipeline.pipeline:Executing time of Rebin.process(): 0:04:41.033309 [ 2022-11-28 15:22:21.430155 - 2022-11-28 15:27:02.463464 ]\n",
      "INFO:tlpipe.pipeline.pipeline:Rebin writing data to files:\n",
      "\t/home/ycli/data/fanalysis/rb4_sumfeeds/20220213/HIMGS_1100+2632_arcdrift0001-0001_1150-1250MHz.h5\n",
      "\t/home/ycli/data/fanalysis/rb4_sumfeeds/20220213/HIMGS_1100+2632_arcdrift0002-0002_1150-1250MHz.h5\n",
      "\t/home/ycli/data/fanalysis/rb4_sumfeeds/20220213/HIMGS_1100+2632_arcdrift0003-0003_1150-1250MHz.h5\n",
      "\t/home/ycli/data/fanalysis/rb4_sumfeeds/20220213/HIMGS_1100+2632_arcdrift0004-0004_1150-1250MHz.h5\n",
      "\t/home/ycli/data/fanalysis/rb4_sumfeeds/20220213/HIMGS_1100+2632_arcdrift0005-0005_1150-1250MHz.h5\n",
      "\t/home/ycli/data/fanalysis/rb4_sumfeeds/20220213/HIMGS_1100+2632_arcdrift0006-0006_1150-1250MHz.h5\n",
      "\t/home/ycli/data/fanalysis/rb4_sumfeeds/20220213/HIMGS_1100+2632_arcdrift0007-0007_1150-1250MHz.h5\n"
     ]
    },
    {
     "name": "stdout",
     "output_type": "stream",
     "text": [
      "freq resolution reduced from 0.0075683594 to 0.030518 MHz (13106 - 3276)\n"
     ]
    },
    {
     "name": "stderr",
     "output_type": "stream",
     "text": [
      "INFO:tlpipe.pipeline.pipeline:End the pipeline at 2022-11-28 15:27:42.871773...\n",
      "INFO:tlpipe.pipeline.pipeline:Total run time: 7 minutes 43.41 seconds\n",
      "INFO:tlpipe.pipeline.pipeline:Start the pipeline at 2022-11-28 15:27:42.937154...\n",
      "INFO:tlpipe.pipeline.pipeline:Initializing task: <class 'fpipe.timestream.rfi_flagging.Flag'>\n",
      "INFO:tlpipe.pipeline.pipeline:Flag reading data from files:\n",
      "\t/home/ycli/data/fanalysis/bpcal/20220213/HIMGS_1100+2632_arcdrift0001-0001_1250-1450MHz.h5\n",
      "\t/home/ycli/data/fanalysis/bpcal/20220213/HIMGS_1100+2632_arcdrift0002-0002_1250-1450MHz.h5\n",
      "\t/home/ycli/data/fanalysis/bpcal/20220213/HIMGS_1100+2632_arcdrift0003-0003_1250-1450MHz.h5\n",
      "\t/home/ycli/data/fanalysis/bpcal/20220213/HIMGS_1100+2632_arcdrift0004-0004_1250-1450MHz.h5\n",
      "\t/home/ycli/data/fanalysis/bpcal/20220213/HIMGS_1100+2632_arcdrift0005-0005_1250-1450MHz.h5\n",
      "\t/home/ycli/data/fanalysis/bpcal/20220213/HIMGS_1100+2632_arcdrift0006-0006_1250-1450MHz.h5\n",
      "\t/home/ycli/data/fanalysis/bpcal/20220213/HIMGS_1100+2632_arcdrift0007-0007_1250-1450MHz.h5\n"
     ]
    },
    {
     "name": "stdout",
     "output_type": "stream",
     "text": [
      "\n",
      "\n",
      "==========================================\n",
      "=                                        =\n",
      "=        DONE FOR THE PIPELINE!!         =\n",
      "=           CONGRATULATIONS!!            =\n",
      "=                                        =\n",
      "==========================================\n"
     ]
    },
    {
     "name": "stderr",
     "output_type": "stream",
     "text": [
      "INFO:fpipe.timestream.rfi_flagging:mask freq 1156.450000 - 1217.140000 MHz\n",
      "INFO:fpipe.timestream.rfi_flagging:mask freq 1225.600000 - 1229.600000 MHz\n",
      "INFO:fpipe.timestream.rfi_flagging:mask freq 1244.000000 - 1249.060000 MHz\n",
      "INFO:fpipe.timestream.rfi_flagging:mask freq 1258.520000 - 1293.750000 MHz\n",
      "INFO:tlpipe.pipeline.pipeline:Executing time of Flag.process(): 0:39:05.328384 [ 2022-11-28 15:30:22.409913 - 2022-11-28 16:09:27.738297 ]\n",
      "INFO:tlpipe.pipeline.pipeline:Flag writing data to files:\n",
      "\t/home/ycli/data/fanalysis/rf_sumfeeds/20220213/HIMGS_1100+2632_arcdrift0001-0001_1250-1450MHz.h5\n",
      "\t/home/ycli/data/fanalysis/rf_sumfeeds/20220213/HIMGS_1100+2632_arcdrift0002-0002_1250-1450MHz.h5\n",
      "\t/home/ycli/data/fanalysis/rf_sumfeeds/20220213/HIMGS_1100+2632_arcdrift0003-0003_1250-1450MHz.h5\n",
      "\t/home/ycli/data/fanalysis/rf_sumfeeds/20220213/HIMGS_1100+2632_arcdrift0004-0004_1250-1450MHz.h5\n",
      "\t/home/ycli/data/fanalysis/rf_sumfeeds/20220213/HIMGS_1100+2632_arcdrift0005-0005_1250-1450MHz.h5\n",
      "\t/home/ycli/data/fanalysis/rf_sumfeeds/20220213/HIMGS_1100+2632_arcdrift0006-0006_1250-1450MHz.h5\n",
      "\t/home/ycli/data/fanalysis/rf_sumfeeds/20220213/HIMGS_1100+2632_arcdrift0007-0007_1250-1450MHz.h5\n",
      "INFO:tlpipe.pipeline.pipeline:End the pipeline at 2022-11-28 16:30:25.853157...\n",
      "INFO:tlpipe.pipeline.pipeline:Total run time: 1 hour 2 minutes 42.92 seconds\n"
     ]
    },
    {
     "name": "stdout",
     "output_type": "stream",
     "text": [
      "\n",
      "\n",
      "==========================================\n",
      "=                                        =\n",
      "=        DONE FOR THE PIPELINE!!         =\n",
      "=           CONGRATULATIONS!!            =\n",
      "=                                        =\n",
      "==========================================\n"
     ]
    },
    {
     "name": "stderr",
     "output_type": "stream",
     "text": [
      "INFO:tlpipe.pipeline.pipeline:Start the pipeline at 2022-11-28 16:30:27.690387...\n",
      "INFO:tlpipe.pipeline.pipeline:Initializing task: <class 'fpipe.timestream.sir_operate.Sir'>\n",
      "INFO:tlpipe.pipeline.pipeline:Sir reading data from files:\n",
      "\t/home/ycli/data/fanalysis/rf_sumfeeds/20220213/HIMGS_1100+2632_arcdrift0001-0001_1250-1450MHz.h5\n",
      "\t/home/ycli/data/fanalysis/rf_sumfeeds/20220213/HIMGS_1100+2632_arcdrift0002-0002_1250-1450MHz.h5\n",
      "\t/home/ycli/data/fanalysis/rf_sumfeeds/20220213/HIMGS_1100+2632_arcdrift0003-0003_1250-1450MHz.h5\n",
      "\t/home/ycli/data/fanalysis/rf_sumfeeds/20220213/HIMGS_1100+2632_arcdrift0004-0004_1250-1450MHz.h5\n",
      "\t/home/ycli/data/fanalysis/rf_sumfeeds/20220213/HIMGS_1100+2632_arcdrift0005-0005_1250-1450MHz.h5\n",
      "\t/home/ycli/data/fanalysis/rf_sumfeeds/20220213/HIMGS_1100+2632_arcdrift0006-0006_1250-1450MHz.h5\n",
      "\t/home/ycli/data/fanalysis/rf_sumfeeds/20220213/HIMGS_1100+2632_arcdrift0007-0007_1250-1450MHz.h5\n",
      "INFO:tlpipe.pipeline.pipeline:Executing time of Sir.process(): 0:03:03.348164 [ 2022-11-28 16:35:26.858796 - 2022-11-28 16:38:30.206960 ]\n",
      "INFO:tlpipe.pipeline.pipeline:Sir writing data to files:\n",
      "\t/home/ycli/data/fanalysis/sir_sumfeeds/20220213/HIMGS_1100+2632_arcdrift0001-0001_1250-1450MHz.h5\n",
      "\t/home/ycli/data/fanalysis/sir_sumfeeds/20220213/HIMGS_1100+2632_arcdrift0002-0002_1250-1450MHz.h5\n",
      "\t/home/ycli/data/fanalysis/sir_sumfeeds/20220213/HIMGS_1100+2632_arcdrift0003-0003_1250-1450MHz.h5\n",
      "\t/home/ycli/data/fanalysis/sir_sumfeeds/20220213/HIMGS_1100+2632_arcdrift0004-0004_1250-1450MHz.h5\n",
      "\t/home/ycli/data/fanalysis/sir_sumfeeds/20220213/HIMGS_1100+2632_arcdrift0005-0005_1250-1450MHz.h5\n",
      "\t/home/ycli/data/fanalysis/sir_sumfeeds/20220213/HIMGS_1100+2632_arcdrift0006-0006_1250-1450MHz.h5\n",
      "\t/home/ycli/data/fanalysis/sir_sumfeeds/20220213/HIMGS_1100+2632_arcdrift0007-0007_1250-1450MHz.h5\n",
      "INFO:tlpipe.pipeline.pipeline:End the pipeline at 2022-11-28 17:00:23.483586...\n",
      "INFO:tlpipe.pipeline.pipeline:Total run time: 29 minutes 55.79 seconds\n",
      "INFO:tlpipe.pipeline.pipeline:Start the pipeline at 2022-11-28 17:00:25.334891...\n",
      "INFO:tlpipe.pipeline.pipeline:Initializing task: <class 'fpipe.timestream.freq_rebin.Rebin'>\n",
      "INFO:tlpipe.pipeline.pipeline:Rebin reading data from files:\n",
      "\t/home/ycli/data/fanalysis/sir_sumfeeds/20220213/HIMGS_1100+2632_arcdrift0001-0001_1250-1450MHz.h5\n",
      "\t/home/ycli/data/fanalysis/sir_sumfeeds/20220213/HIMGS_1100+2632_arcdrift0002-0002_1250-1450MHz.h5\n",
      "\t/home/ycli/data/fanalysis/sir_sumfeeds/20220213/HIMGS_1100+2632_arcdrift0003-0003_1250-1450MHz.h5\n",
      "\t/home/ycli/data/fanalysis/sir_sumfeeds/20220213/HIMGS_1100+2632_arcdrift0004-0004_1250-1450MHz.h5\n",
      "\t/home/ycli/data/fanalysis/sir_sumfeeds/20220213/HIMGS_1100+2632_arcdrift0005-0005_1250-1450MHz.h5\n",
      "\t/home/ycli/data/fanalysis/sir_sumfeeds/20220213/HIMGS_1100+2632_arcdrift0006-0006_1250-1450MHz.h5\n",
      "\t/home/ycli/data/fanalysis/sir_sumfeeds/20220213/HIMGS_1100+2632_arcdrift0007-0007_1250-1450MHz.h5\n"
     ]
    },
    {
     "name": "stdout",
     "output_type": "stream",
     "text": [
      "\n",
      "\n",
      "==========================================\n",
      "=                                        =\n",
      "=        DONE FOR THE PIPELINE!!         =\n",
      "=           CONGRATULATIONS!!            =\n",
      "=                                        =\n",
      "==========================================\n"
     ]
    },
    {
     "name": "stderr",
     "output_type": "stream",
     "text": [
      "INFO:tlpipe.pipeline.pipeline:Executing time of Rebin.process(): 0:09:34.052553 [ 2022-11-28 17:03:46.791287 - 2022-11-28 17:13:20.843840 ]\n",
      "INFO:tlpipe.pipeline.pipeline:Rebin writing data to files:\n",
      "\t/home/ycli/data/fanalysis/rb4_sumfeeds/20220213/HIMGS_1100+2632_arcdrift0001-0001_1250-1450MHz.h5\n",
      "\t/home/ycli/data/fanalysis/rb4_sumfeeds/20220213/HIMGS_1100+2632_arcdrift0002-0002_1250-1450MHz.h5\n",
      "\t/home/ycli/data/fanalysis/rb4_sumfeeds/20220213/HIMGS_1100+2632_arcdrift0003-0003_1250-1450MHz.h5\n",
      "\t/home/ycli/data/fanalysis/rb4_sumfeeds/20220213/HIMGS_1100+2632_arcdrift0004-0004_1250-1450MHz.h5\n",
      "\t/home/ycli/data/fanalysis/rb4_sumfeeds/20220213/HIMGS_1100+2632_arcdrift0005-0005_1250-1450MHz.h5\n",
      "\t/home/ycli/data/fanalysis/rb4_sumfeeds/20220213/HIMGS_1100+2632_arcdrift0006-0006_1250-1450MHz.h5\n",
      "\t/home/ycli/data/fanalysis/rb4_sumfeeds/20220213/HIMGS_1100+2632_arcdrift0007-0007_1250-1450MHz.h5\n"
     ]
    },
    {
     "name": "stdout",
     "output_type": "stream",
     "text": [
      "freq resolution reduced from 0.0076904297 to 0.030518 MHz (26213 - 6553)\n"
     ]
    },
    {
     "name": "stderr",
     "output_type": "stream",
     "text": [
      "INFO:tlpipe.pipeline.pipeline:End the pipeline at 2022-11-28 17:14:42.881350...\n",
      "INFO:tlpipe.pipeline.pipeline:Total run time: 14 minutes 17.55 seconds\n",
      "INFO:tlpipe.pipeline.pipeline:Start the pipeline at 2022-11-28 17:14:43.050574...\n",
      "INFO:tlpipe.pipeline.pipeline:Initializing task: <class 'fpipe.timestream.rfi_flagging.Flag'>\n"
     ]
    },
    {
     "name": "stdout",
     "output_type": "stream",
     "text": [
      "\n",
      "\n",
      "==========================================\n",
      "=                                        =\n",
      "=        DONE FOR THE PIPELINE!!         =\n",
      "=           CONGRATULATIONS!!            =\n",
      "=                                        =\n",
      "==========================================\n"
     ]
    },
    {
     "name": "stderr",
     "output_type": "stream",
     "text": [
      "INFO:tlpipe.pipeline.pipeline:Flag reading data from files:\n",
      "\t/home/ycli/data/fanalysis/bpcal/20220214/HIMGS_1100+2643_arcdrift0001-0001_1050-1150MHz.h5\n",
      "\t/home/ycli/data/fanalysis/bpcal/20220214/HIMGS_1100+2643_arcdrift0002-0002_1050-1150MHz.h5\n",
      "\t/home/ycli/data/fanalysis/bpcal/20220214/HIMGS_1100+2643_arcdrift0003-0003_1050-1150MHz.h5\n",
      "\t/home/ycli/data/fanalysis/bpcal/20220214/HIMGS_1100+2643_arcdrift0004-0004_1050-1150MHz.h5\n",
      "\t/home/ycli/data/fanalysis/bpcal/20220214/HIMGS_1100+2643_arcdrift0005-0005_1050-1150MHz.h5\n",
      "\t/home/ycli/data/fanalysis/bpcal/20220214/HIMGS_1100+2643_arcdrift0006-0006_1050-1150MHz.h5\n",
      "\t/home/ycli/data/fanalysis/bpcal/20220214/HIMGS_1100+2643_arcdrift0007-0007_1050-1150MHz.h5\n",
      "INFO:fpipe.timestream.rfi_flagging:mask freq 1156.450000 - 1217.140000 MHz\n",
      "INFO:fpipe.timestream.rfi_flagging:mask freq 1225.600000 - 1229.600000 MHz\n",
      "INFO:fpipe.timestream.rfi_flagging:mask freq 1244.000000 - 1249.060000 MHz\n",
      "INFO:fpipe.timestream.rfi_flagging:mask freq 1258.520000 - 1293.750000 MHz\n",
      "INFO:tlpipe.pipeline.pipeline:Executing time of Flag.process(): 0:19:08.150847 [ 2022-11-28 17:16:25.896378 - 2022-11-28 17:35:34.047225 ]\n",
      "INFO:tlpipe.pipeline.pipeline:Flag writing data to files:\n",
      "\t/home/ycli/data/fanalysis/rf_sumfeeds/20220214/HIMGS_1100+2643_arcdrift0001-0001_1050-1150MHz.h5\n",
      "\t/home/ycli/data/fanalysis/rf_sumfeeds/20220214/HIMGS_1100+2643_arcdrift0002-0002_1050-1150MHz.h5\n",
      "\t/home/ycli/data/fanalysis/rf_sumfeeds/20220214/HIMGS_1100+2643_arcdrift0003-0003_1050-1150MHz.h5\n",
      "\t/home/ycli/data/fanalysis/rf_sumfeeds/20220214/HIMGS_1100+2643_arcdrift0004-0004_1050-1150MHz.h5\n",
      "\t/home/ycli/data/fanalysis/rf_sumfeeds/20220214/HIMGS_1100+2643_arcdrift0005-0005_1050-1150MHz.h5\n",
      "\t/home/ycli/data/fanalysis/rf_sumfeeds/20220214/HIMGS_1100+2643_arcdrift0006-0006_1050-1150MHz.h5\n",
      "\t/home/ycli/data/fanalysis/rf_sumfeeds/20220214/HIMGS_1100+2643_arcdrift0007-0007_1050-1150MHz.h5\n",
      "INFO:tlpipe.pipeline.pipeline:End the pipeline at 2022-11-28 17:38:39.044235...\n",
      "INFO:tlpipe.pipeline.pipeline:Total run time: 23 minutes 55.99 seconds\n",
      "INFO:tlpipe.pipeline.pipeline:Start the pipeline at 2022-11-28 17:38:39.246063...\n",
      "INFO:tlpipe.pipeline.pipeline:Initializing task: <class 'fpipe.timestream.sir_operate.Sir'>\n",
      "INFO:tlpipe.pipeline.pipeline:Sir reading data from files:\n",
      "\t/home/ycli/data/fanalysis/rf_sumfeeds/20220214/HIMGS_1100+2643_arcdrift0001-0001_1050-1150MHz.h5\n",
      "\t/home/ycli/data/fanalysis/rf_sumfeeds/20220214/HIMGS_1100+2643_arcdrift0002-0002_1050-1150MHz.h5\n",
      "\t/home/ycli/data/fanalysis/rf_sumfeeds/20220214/HIMGS_1100+2643_arcdrift0003-0003_1050-1150MHz.h5\n",
      "\t/home/ycli/data/fanalysis/rf_sumfeeds/20220214/HIMGS_1100+2643_arcdrift0004-0004_1050-1150MHz.h5\n",
      "\t/home/ycli/data/fanalysis/rf_sumfeeds/20220214/HIMGS_1100+2643_arcdrift0005-0005_1050-1150MHz.h5\n",
      "\t/home/ycli/data/fanalysis/rf_sumfeeds/20220214/HIMGS_1100+2643_arcdrift0006-0006_1050-1150MHz.h5\n",
      "\t/home/ycli/data/fanalysis/rf_sumfeeds/20220214/HIMGS_1100+2643_arcdrift0007-0007_1050-1150MHz.h5\n"
     ]
    },
    {
     "name": "stdout",
     "output_type": "stream",
     "text": [
      "\n",
      "\n",
      "==========================================\n",
      "=                                        =\n",
      "=        DONE FOR THE PIPELINE!!         =\n",
      "=           CONGRATULATIONS!!            =\n",
      "=                                        =\n",
      "==========================================\n"
     ]
    },
    {
     "name": "stderr",
     "output_type": "stream",
     "text": [
      "INFO:tlpipe.pipeline.pipeline:Executing time of Sir.process(): 0:00:55.869557 [ 2022-11-28 17:39:28.161166 - 2022-11-28 17:40:24.030723 ]\n",
      "INFO:tlpipe.pipeline.pipeline:Sir writing data to files:\n",
      "\t/home/ycli/data/fanalysis/sir_sumfeeds/20220214/HIMGS_1100+2643_arcdrift0001-0001_1050-1150MHz.h5\n",
      "\t/home/ycli/data/fanalysis/sir_sumfeeds/20220214/HIMGS_1100+2643_arcdrift0002-0002_1050-1150MHz.h5\n",
      "\t/home/ycli/data/fanalysis/sir_sumfeeds/20220214/HIMGS_1100+2643_arcdrift0003-0003_1050-1150MHz.h5\n",
      "\t/home/ycli/data/fanalysis/sir_sumfeeds/20220214/HIMGS_1100+2643_arcdrift0004-0004_1050-1150MHz.h5\n",
      "\t/home/ycli/data/fanalysis/sir_sumfeeds/20220214/HIMGS_1100+2643_arcdrift0005-0005_1050-1150MHz.h5\n",
      "\t/home/ycli/data/fanalysis/sir_sumfeeds/20220214/HIMGS_1100+2643_arcdrift0006-0006_1050-1150MHz.h5\n",
      "\t/home/ycli/data/fanalysis/sir_sumfeeds/20220214/HIMGS_1100+2643_arcdrift0007-0007_1050-1150MHz.h5\n",
      "INFO:tlpipe.pipeline.pipeline:End the pipeline at 2022-11-28 17:43:32.373511...\n",
      "INFO:tlpipe.pipeline.pipeline:Total run time: 4 minutes 53.13 seconds\n",
      "INFO:tlpipe.pipeline.pipeline:Start the pipeline at 2022-11-28 17:43:32.566459...\n",
      "INFO:tlpipe.pipeline.pipeline:Initializing task: <class 'fpipe.timestream.freq_rebin.Rebin'>\n",
      "INFO:tlpipe.pipeline.pipeline:Rebin reading data from files:\n",
      "\t/home/ycli/data/fanalysis/sir_sumfeeds/20220214/HIMGS_1100+2643_arcdrift0001-0001_1050-1150MHz.h5\n",
      "\t/home/ycli/data/fanalysis/sir_sumfeeds/20220214/HIMGS_1100+2643_arcdrift0002-0002_1050-1150MHz.h5\n",
      "\t/home/ycli/data/fanalysis/sir_sumfeeds/20220214/HIMGS_1100+2643_arcdrift0003-0003_1050-1150MHz.h5\n",
      "\t/home/ycli/data/fanalysis/sir_sumfeeds/20220214/HIMGS_1100+2643_arcdrift0004-0004_1050-1150MHz.h5\n",
      "\t/home/ycli/data/fanalysis/sir_sumfeeds/20220214/HIMGS_1100+2643_arcdrift0005-0005_1050-1150MHz.h5\n",
      "\t/home/ycli/data/fanalysis/sir_sumfeeds/20220214/HIMGS_1100+2643_arcdrift0006-0006_1050-1150MHz.h5\n",
      "\t/home/ycli/data/fanalysis/sir_sumfeeds/20220214/HIMGS_1100+2643_arcdrift0007-0007_1050-1150MHz.h5\n"
     ]
    },
    {
     "name": "stdout",
     "output_type": "stream",
     "text": [
      "\n",
      "\n",
      "==========================================\n",
      "=                                        =\n",
      "=        DONE FOR THE PIPELINE!!         =\n",
      "=           CONGRATULATIONS!!            =\n",
      "=                                        =\n",
      "==========================================\n"
     ]
    },
    {
     "name": "stderr",
     "output_type": "stream",
     "text": [
      "INFO:tlpipe.pipeline.pipeline:Executing time of Rebin.process(): 0:04:11.278819 [ 2022-11-28 17:45:38.463618 - 2022-11-28 17:49:49.742437 ]\n",
      "INFO:tlpipe.pipeline.pipeline:Rebin writing data to files:\n",
      "\t/home/ycli/data/fanalysis/rb4_sumfeeds/20220214/HIMGS_1100+2643_arcdrift0001-0001_1050-1150MHz.h5\n",
      "\t/home/ycli/data/fanalysis/rb4_sumfeeds/20220214/HIMGS_1100+2643_arcdrift0002-0002_1050-1150MHz.h5\n",
      "\t/home/ycli/data/fanalysis/rb4_sumfeeds/20220214/HIMGS_1100+2643_arcdrift0003-0003_1050-1150MHz.h5\n",
      "\t/home/ycli/data/fanalysis/rb4_sumfeeds/20220214/HIMGS_1100+2643_arcdrift0004-0004_1050-1150MHz.h5\n",
      "\t/home/ycli/data/fanalysis/rb4_sumfeeds/20220214/HIMGS_1100+2643_arcdrift0005-0005_1050-1150MHz.h5\n",
      "\t/home/ycli/data/fanalysis/rb4_sumfeeds/20220214/HIMGS_1100+2643_arcdrift0006-0006_1050-1150MHz.h5\n",
      "\t/home/ycli/data/fanalysis/rb4_sumfeeds/20220214/HIMGS_1100+2643_arcdrift0007-0007_1050-1150MHz.h5\n"
     ]
    },
    {
     "name": "stdout",
     "output_type": "stream",
     "text": [
      "freq resolution reduced from 0.0076904297 to 0.030518 MHz (13106 - 3276)\n"
     ]
    },
    {
     "name": "stderr",
     "output_type": "stream",
     "text": [
      "INFO:tlpipe.pipeline.pipeline:End the pipeline at 2022-11-28 17:50:31.872151...\n",
      "INFO:tlpipe.pipeline.pipeline:Total run time: 6 minutes 59.31 seconds\n",
      "INFO:tlpipe.pipeline.pipeline:Start the pipeline at 2022-11-28 17:50:32.001967...\n",
      "INFO:tlpipe.pipeline.pipeline:Initializing task: <class 'fpipe.timestream.rfi_flagging.Flag'>\n"
     ]
    },
    {
     "name": "stdout",
     "output_type": "stream",
     "text": [
      "\n",
      "\n",
      "==========================================\n",
      "=                                        =\n",
      "=        DONE FOR THE PIPELINE!!         =\n",
      "=           CONGRATULATIONS!!            =\n",
      "=                                        =\n",
      "==========================================\n"
     ]
    },
    {
     "name": "stderr",
     "output_type": "stream",
     "text": [
      "INFO:tlpipe.pipeline.pipeline:Flag reading data from files:\n",
      "\t/home/ycli/data/fanalysis/bpcal/20220214/HIMGS_1100+2643_arcdrift0001-0001_1150-1250MHz.h5\n",
      "\t/home/ycli/data/fanalysis/bpcal/20220214/HIMGS_1100+2643_arcdrift0002-0002_1150-1250MHz.h5\n",
      "\t/home/ycli/data/fanalysis/bpcal/20220214/HIMGS_1100+2643_arcdrift0003-0003_1150-1250MHz.h5\n",
      "\t/home/ycli/data/fanalysis/bpcal/20220214/HIMGS_1100+2643_arcdrift0004-0004_1150-1250MHz.h5\n",
      "\t/home/ycli/data/fanalysis/bpcal/20220214/HIMGS_1100+2643_arcdrift0005-0005_1150-1250MHz.h5\n",
      "\t/home/ycli/data/fanalysis/bpcal/20220214/HIMGS_1100+2643_arcdrift0006-0006_1150-1250MHz.h5\n",
      "\t/home/ycli/data/fanalysis/bpcal/20220214/HIMGS_1100+2643_arcdrift0007-0007_1150-1250MHz.h5\n",
      "INFO:fpipe.timestream.rfi_flagging:mask freq 1156.450000 - 1217.140000 MHz\n",
      "INFO:fpipe.timestream.rfi_flagging:mask freq 1225.600000 - 1229.600000 MHz\n",
      "INFO:fpipe.timestream.rfi_flagging:mask freq 1244.000000 - 1249.060000 MHz\n",
      "INFO:fpipe.timestream.rfi_flagging:mask freq 1258.520000 - 1293.750000 MHz\n",
      "INFO:tlpipe.pipeline.pipeline:Executing time of Flag.process(): 0:16:47.116409 [ 2022-11-28 17:52:02.202832 - 2022-11-28 18:08:49.319241 ]\n",
      "INFO:tlpipe.pipeline.pipeline:Flag writing data to files:\n",
      "\t/home/ycli/data/fanalysis/rf_sumfeeds/20220214/HIMGS_1100+2643_arcdrift0001-0001_1150-1250MHz.h5\n",
      "\t/home/ycli/data/fanalysis/rf_sumfeeds/20220214/HIMGS_1100+2643_arcdrift0002-0002_1150-1250MHz.h5\n",
      "\t/home/ycli/data/fanalysis/rf_sumfeeds/20220214/HIMGS_1100+2643_arcdrift0003-0003_1150-1250MHz.h5\n",
      "\t/home/ycli/data/fanalysis/rf_sumfeeds/20220214/HIMGS_1100+2643_arcdrift0004-0004_1150-1250MHz.h5\n",
      "\t/home/ycli/data/fanalysis/rf_sumfeeds/20220214/HIMGS_1100+2643_arcdrift0005-0005_1150-1250MHz.h5\n",
      "\t/home/ycli/data/fanalysis/rf_sumfeeds/20220214/HIMGS_1100+2643_arcdrift0006-0006_1150-1250MHz.h5\n",
      "\t/home/ycli/data/fanalysis/rf_sumfeeds/20220214/HIMGS_1100+2643_arcdrift0007-0007_1150-1250MHz.h5\n",
      "INFO:tlpipe.pipeline.pipeline:End the pipeline at 2022-11-28 18:12:01.936989...\n",
      "INFO:tlpipe.pipeline.pipeline:Total run time: 21 minutes 29.94 seconds\n",
      "INFO:tlpipe.pipeline.pipeline:Start the pipeline at 2022-11-28 18:12:02.132268...\n",
      "INFO:tlpipe.pipeline.pipeline:Initializing task: <class 'fpipe.timestream.sir_operate.Sir'>\n"
     ]
    },
    {
     "name": "stdout",
     "output_type": "stream",
     "text": [
      "\n",
      "\n",
      "==========================================\n",
      "=                                        =\n",
      "=        DONE FOR THE PIPELINE!!         =\n",
      "=           CONGRATULATIONS!!            =\n",
      "=                                        =\n",
      "==========================================\n"
     ]
    },
    {
     "name": "stderr",
     "output_type": "stream",
     "text": [
      "INFO:tlpipe.pipeline.pipeline:Sir reading data from files:\n",
      "\t/home/ycli/data/fanalysis/rf_sumfeeds/20220214/HIMGS_1100+2643_arcdrift0001-0001_1150-1250MHz.h5\n",
      "\t/home/ycli/data/fanalysis/rf_sumfeeds/20220214/HIMGS_1100+2643_arcdrift0002-0002_1150-1250MHz.h5\n",
      "\t/home/ycli/data/fanalysis/rf_sumfeeds/20220214/HIMGS_1100+2643_arcdrift0003-0003_1150-1250MHz.h5\n",
      "\t/home/ycli/data/fanalysis/rf_sumfeeds/20220214/HIMGS_1100+2643_arcdrift0004-0004_1150-1250MHz.h5\n",
      "\t/home/ycli/data/fanalysis/rf_sumfeeds/20220214/HIMGS_1100+2643_arcdrift0005-0005_1150-1250MHz.h5\n",
      "\t/home/ycli/data/fanalysis/rf_sumfeeds/20220214/HIMGS_1100+2643_arcdrift0006-0006_1150-1250MHz.h5\n",
      "\t/home/ycli/data/fanalysis/rf_sumfeeds/20220214/HIMGS_1100+2643_arcdrift0007-0007_1150-1250MHz.h5\n",
      "INFO:tlpipe.pipeline.pipeline:Executing time of Sir.process(): 0:00:55.881708 [ 2022-11-28 18:12:50.846233 - 2022-11-28 18:13:46.727941 ]\n",
      "INFO:tlpipe.pipeline.pipeline:Sir writing data to files:\n",
      "\t/home/ycli/data/fanalysis/sir_sumfeeds/20220214/HIMGS_1100+2643_arcdrift0001-0001_1150-1250MHz.h5\n",
      "\t/home/ycli/data/fanalysis/sir_sumfeeds/20220214/HIMGS_1100+2643_arcdrift0002-0002_1150-1250MHz.h5\n",
      "\t/home/ycli/data/fanalysis/sir_sumfeeds/20220214/HIMGS_1100+2643_arcdrift0003-0003_1150-1250MHz.h5\n",
      "\t/home/ycli/data/fanalysis/sir_sumfeeds/20220214/HIMGS_1100+2643_arcdrift0004-0004_1150-1250MHz.h5\n",
      "\t/home/ycli/data/fanalysis/sir_sumfeeds/20220214/HIMGS_1100+2643_arcdrift0005-0005_1150-1250MHz.h5\n",
      "\t/home/ycli/data/fanalysis/sir_sumfeeds/20220214/HIMGS_1100+2643_arcdrift0006-0006_1150-1250MHz.h5\n",
      "\t/home/ycli/data/fanalysis/sir_sumfeeds/20220214/HIMGS_1100+2643_arcdrift0007-0007_1150-1250MHz.h5\n",
      "INFO:tlpipe.pipeline.pipeline:End the pipeline at 2022-11-28 18:16:47.339971...\n",
      "INFO:tlpipe.pipeline.pipeline:Total run time: 4 minutes 45.21 seconds\n",
      "INFO:tlpipe.pipeline.pipeline:Start the pipeline at 2022-11-28 18:16:47.524882...\n",
      "INFO:tlpipe.pipeline.pipeline:Initializing task: <class 'fpipe.timestream.freq_rebin.Rebin'>\n",
      "INFO:tlpipe.pipeline.pipeline:Rebin reading data from files:\n",
      "\t/home/ycli/data/fanalysis/sir_sumfeeds/20220214/HIMGS_1100+2643_arcdrift0001-0001_1150-1250MHz.h5\n",
      "\t/home/ycli/data/fanalysis/sir_sumfeeds/20220214/HIMGS_1100+2643_arcdrift0002-0002_1150-1250MHz.h5\n",
      "\t/home/ycli/data/fanalysis/sir_sumfeeds/20220214/HIMGS_1100+2643_arcdrift0003-0003_1150-1250MHz.h5\n",
      "\t/home/ycli/data/fanalysis/sir_sumfeeds/20220214/HIMGS_1100+2643_arcdrift0004-0004_1150-1250MHz.h5\n",
      "\t/home/ycli/data/fanalysis/sir_sumfeeds/20220214/HIMGS_1100+2643_arcdrift0005-0005_1150-1250MHz.h5\n",
      "\t/home/ycli/data/fanalysis/sir_sumfeeds/20220214/HIMGS_1100+2643_arcdrift0006-0006_1150-1250MHz.h5\n",
      "\t/home/ycli/data/fanalysis/sir_sumfeeds/20220214/HIMGS_1100+2643_arcdrift0007-0007_1150-1250MHz.h5\n"
     ]
    },
    {
     "name": "stdout",
     "output_type": "stream",
     "text": [
      "\n",
      "\n",
      "==========================================\n",
      "=                                        =\n",
      "=        DONE FOR THE PIPELINE!!         =\n",
      "=           CONGRATULATIONS!!            =\n",
      "=                                        =\n",
      "==========================================\n"
     ]
    },
    {
     "name": "stderr",
     "output_type": "stream",
     "text": [
      "INFO:tlpipe.pipeline.pipeline:Executing time of Rebin.process(): 0:04:44.737755 [ 2022-11-28 18:17:54.409159 - 2022-11-28 18:22:39.146914 ]\n",
      "INFO:tlpipe.pipeline.pipeline:Rebin writing data to files:\n",
      "\t/home/ycli/data/fanalysis/rb4_sumfeeds/20220214/HIMGS_1100+2643_arcdrift0001-0001_1150-1250MHz.h5\n",
      "\t/home/ycli/data/fanalysis/rb4_sumfeeds/20220214/HIMGS_1100+2643_arcdrift0002-0002_1150-1250MHz.h5\n",
      "\t/home/ycli/data/fanalysis/rb4_sumfeeds/20220214/HIMGS_1100+2643_arcdrift0003-0003_1150-1250MHz.h5\n",
      "\t/home/ycli/data/fanalysis/rb4_sumfeeds/20220214/HIMGS_1100+2643_arcdrift0004-0004_1150-1250MHz.h5\n",
      "\t/home/ycli/data/fanalysis/rb4_sumfeeds/20220214/HIMGS_1100+2643_arcdrift0005-0005_1150-1250MHz.h5\n",
      "\t/home/ycli/data/fanalysis/rb4_sumfeeds/20220214/HIMGS_1100+2643_arcdrift0006-0006_1150-1250MHz.h5\n",
      "\t/home/ycli/data/fanalysis/rb4_sumfeeds/20220214/HIMGS_1100+2643_arcdrift0007-0007_1150-1250MHz.h5\n"
     ]
    },
    {
     "name": "stdout",
     "output_type": "stream",
     "text": [
      "freq resolution reduced from 0.0075683594 to 0.030518 MHz (13106 - 3276)\n"
     ]
    },
    {
     "name": "stderr",
     "output_type": "stream",
     "text": [
      "INFO:tlpipe.pipeline.pipeline:End the pipeline at 2022-11-28 18:23:21.194049...\n",
      "INFO:tlpipe.pipeline.pipeline:Total run time: 6 minutes 33.67 seconds\n",
      "INFO:tlpipe.pipeline.pipeline:Start the pipeline at 2022-11-28 18:23:21.313261...\n",
      "INFO:tlpipe.pipeline.pipeline:Initializing task: <class 'fpipe.timestream.rfi_flagging.Flag'>\n",
      "INFO:tlpipe.pipeline.pipeline:Flag reading data from files:\n",
      "\t/home/ycli/data/fanalysis/bpcal/20220214/HIMGS_1100+2643_arcdrift0001-0001_1250-1450MHz.h5\n",
      "\t/home/ycli/data/fanalysis/bpcal/20220214/HIMGS_1100+2643_arcdrift0002-0002_1250-1450MHz.h5\n",
      "\t/home/ycli/data/fanalysis/bpcal/20220214/HIMGS_1100+2643_arcdrift0003-0003_1250-1450MHz.h5\n",
      "\t/home/ycli/data/fanalysis/bpcal/20220214/HIMGS_1100+2643_arcdrift0004-0004_1250-1450MHz.h5\n",
      "\t/home/ycli/data/fanalysis/bpcal/20220214/HIMGS_1100+2643_arcdrift0005-0005_1250-1450MHz.h5\n",
      "\t/home/ycli/data/fanalysis/bpcal/20220214/HIMGS_1100+2643_arcdrift0006-0006_1250-1450MHz.h5\n",
      "\t/home/ycli/data/fanalysis/bpcal/20220214/HIMGS_1100+2643_arcdrift0007-0007_1250-1450MHz.h5\n"
     ]
    },
    {
     "name": "stdout",
     "output_type": "stream",
     "text": [
      "\n",
      "\n",
      "==========================================\n",
      "=                                        =\n",
      "=        DONE FOR THE PIPELINE!!         =\n",
      "=           CONGRATULATIONS!!            =\n",
      "=                                        =\n",
      "==========================================\n"
     ]
    }
   ],
   "source": [
    "for DATA_Key, DATA, DATE in iter_data_key(DATA_Key_list):\n",
    "    \n",
    "    file_temp = '%s/%s_arcdrift%04d-%04d%s.h5'\n",
    "    for suffix in band_list:\n",
    "        input_files = [file_temp%(DATE, DATA, i, i, suffix) for i in range(1, 8)]\n",
    "    \n",
    "        sumthreshold_flagging['rf_input_files']  = ['bpcal/%s'%(f, )   for f in input_files]\n",
    "        sumthreshold_flagging['rf_output_files'] = ['rf_sumfeeds/%s'%f for f in input_files]\n",
    "        sumthreshold_flagging()\n",
    "        %reset -f array\n",
    "        \n",
    "        #plot_wf['pkat1_input_files'] = ['rf_sumfeeds/%s'%f for f in input_files]\n",
    "        #plot_wf['pkat1_fig_name'] = 'plot/%s_%s_%s%s'%('rf', DATA, DATE, suffix)\n",
    "        #plot_wf()\n",
    "        #%reset -f array\n",
    "\n",
    "        sir_flagging['sir_input_files']  = ['rf_sumfeeds/%s'%(f, ) for f in input_files]\n",
    "        sir_flagging['sir_output_files'] = ['sir_sumfeeds/%s'%f    for f in input_files]\n",
    "        sir_flagging()\n",
    "        %reset -f array\n",
    "        \n",
    "        rebin_frequency['rb_input_files'] = ['sir_sumfeeds/%s'%f for f in input_files]\n",
    "        rebin_frequency['rb_output_files'] = ['rb4_sumfeeds/%s'%f for f in input_files]\n",
    "        rebin_frequency()\n",
    "        %reset -f array\n",
    "        \n",
    "        #plot_wf['pkat1_input_files'] = ['rb4_sumfeeds/%s'%f for f in input_files]\n",
    "        #plot_wf['pkat1_fig_name'] = 'plot/%s_%s_%s%s'%('rb4', DATA, DATE, suffix)\n",
    "        #plot_wf()\n",
    "        #%reset -f array\n"
   ]
  },
  {
   "cell_type": "code",
   "execution_count": 6,
   "id": "97f0c733-b7a9-4d84-b3c7-c37c686dac6d",
   "metadata": {},
   "outputs": [],
   "source": [
    "%reset -f array"
   ]
  },
  {
   "cell_type": "code",
   "execution_count": 9,
   "id": "5143e634-34eb-4f93-a96f-11deb4ff516c",
   "metadata": {
    "scrolled": true,
    "tags": []
   },
   "outputs": [
    {
     "name": "stderr",
     "output_type": "stream",
     "text": [
      "INFO:tlpipe.pipeline.pipeline:Initializing task: <class 'fpipe.timestream.freq_rebin.Rebin'>\n",
      "INFO:tlpipe.pipeline.pipeline:Rebin reading data from files:\n",
      "\t/home/ycli/data/fanalysis/sir_sumfeeds/20220210/HIMGS_1100+2600_arcdrift0001-0001_1050-1150MHz.h5\n",
      "\t/home/ycli/data/fanalysis/sir_sumfeeds/20220210/HIMGS_1100+2600_arcdrift0002-0002_1050-1150MHz.h5\n",
      "\t/home/ycli/data/fanalysis/sir_sumfeeds/20220210/HIMGS_1100+2600_arcdrift0003-0003_1050-1150MHz.h5\n",
      "\t/home/ycli/data/fanalysis/sir_sumfeeds/20220210/HIMGS_1100+2600_arcdrift0004-0004_1050-1150MHz.h5\n",
      "\t/home/ycli/data/fanalysis/sir_sumfeeds/20220210/HIMGS_1100+2600_arcdrift0005-0005_1050-1150MHz.h5\n",
      "\t/home/ycli/data/fanalysis/sir_sumfeeds/20220210/HIMGS_1100+2600_arcdrift0006-0006_1050-1150MHz.h5\n",
      "\t/home/ycli/data/fanalysis/sir_sumfeeds/20220210/HIMGS_1100+2600_arcdrift0007-0007_1050-1150MHz.h5\n"
     ]
    },
    {
     "name": "stdout",
     "output_type": "stream",
     "text": [
      "Start the pipeline at 2022-10-05 09:51:18.726418...\n",
      "Reading parameters from dictionary.\n",
      "Warning: Assigned an input parameter to the value of the wrong type. Parameter name: input_files\n",
      "Warning: Assigned an input parameter to the value of the wrong type. Parameter name: output_files\n",
      "Warning: Assigned an input parameter to the value of the wrong type. Parameter name: bin_combine_number\n",
      "Parameters set.\n",
      "parameter: requires defaulted to value: None\n",
      "parameter: in defaulted to value: None\n",
      "parameter: out defaulted to value: None\n",
      "parameter: keep_last_in defaulted to value: False\n",
      "parameter: timing defaulted to value: False\n",
      "parameter: copy defaulted to value: False\n",
      "parameter: iterable defaulted to value: False\n",
      "parameter: iter_start defaulted to value: 0\n",
      "parameter: iter_step defaulted to value: 1\n",
      "parameter: iter_num defaulted to value: None\n",
      "parameter: dry_run_time defaulted to value: 0\n",
      "parameter: mode defaulted to value: r\n",
      "parameter: start defaulted to value: 0\n",
      "parameter: stop defaulted to value: None\n",
      "parameter: dist_axis defaulted to value: 0\n",
      "parameter: exclude defaulted to value: []\n",
      "parameter: check_status defaulted to value: True\n",
      "parameter: write_hints defaulted to value: True\n",
      "parameter: libver defaulted to value: earliest\n",
      "parameter: chunk_vis defaulted to value: False\n",
      "parameter: chunk_shape defaulted to value: None\n",
      "parameter: chunk_size defaulted to value: 64\n",
      "parameter: output_failed_continue defaulted to value: False\n",
      "parameter: time_select defaulted to value: (0, None)\n",
      "parameter: freq_select defaulted to value: (0, None)\n",
      "parameter: pol_select defaulted to value: (0, None)\n",
      "parameter: feed_select defaulted to value: (0, None)\n",
      "parameter: show_progress defaulted to value: False\n",
      "parameter: progress_step defaulted to value: None\n",
      "parameter: show_info defaulted to value: False\n",
      "parameter: tag_input_iter defaulted to value: True\n",
      "parameter: tag_output_iter defaulted to value: True\n",
      "parameter: bin_number defaulted to value: 16\n"
     ]
    },
    {
     "name": "stderr",
     "output_type": "stream",
     "text": [
      "INFO:tlpipe.pipeline.pipeline:Executing time of Rebin.process(): 0:04:18.482267 [ 2022-10-05 09:52:16.087983 - 2022-10-05 09:56:34.570250 ]\n",
      "INFO:tlpipe.pipeline.pipeline:Rebin writing data to files:\n",
      "\t/home/ycli/data/fanalysis/rb4_sumfeeds/20220210/HIMGS_1100+2600_arcdrift0001-0001_1050-1150MHz.h5\n",
      "\t/home/ycli/data/fanalysis/rb4_sumfeeds/20220210/HIMGS_1100+2600_arcdrift0002-0002_1050-1150MHz.h5\n",
      "\t/home/ycli/data/fanalysis/rb4_sumfeeds/20220210/HIMGS_1100+2600_arcdrift0003-0003_1050-1150MHz.h5\n",
      "\t/home/ycli/data/fanalysis/rb4_sumfeeds/20220210/HIMGS_1100+2600_arcdrift0004-0004_1050-1150MHz.h5\n",
      "\t/home/ycli/data/fanalysis/rb4_sumfeeds/20220210/HIMGS_1100+2600_arcdrift0005-0005_1050-1150MHz.h5\n",
      "\t/home/ycli/data/fanalysis/rb4_sumfeeds/20220210/HIMGS_1100+2600_arcdrift0006-0006_1050-1150MHz.h5\n",
      "\t/home/ycli/data/fanalysis/rb4_sumfeeds/20220210/HIMGS_1100+2600_arcdrift0007-0007_1050-1150MHz.h5\n"
     ]
    },
    {
     "name": "stdout",
     "output_type": "stream",
     "text": [
      "freq resolution reduced from 0.0076904297 to 0.030518 MHz (13106 - 3276)\n"
     ]
    },
    {
     "name": "stderr",
     "output_type": "stream",
     "text": [
      "INFO:tlpipe.pipeline.pipeline:Initializing task: <class 'fpipe.plot.plot_waterfall.PlotMeerKAT'>\n",
      "INFO:tlpipe.pipeline.pipeline:PlotMeerKAT reading data from files:\n",
      "\t/home/ycli/data/fanalysis/rb4_sumfeeds/20220210/HIMGS_1100+2600_arcdrift0001-0001_1050-1150MHz.h5\n",
      "\t/home/ycli/data/fanalysis/rb4_sumfeeds/20220210/HIMGS_1100+2600_arcdrift0002-0002_1050-1150MHz.h5\n",
      "\t/home/ycli/data/fanalysis/rb4_sumfeeds/20220210/HIMGS_1100+2600_arcdrift0003-0003_1050-1150MHz.h5\n",
      "\t/home/ycli/data/fanalysis/rb4_sumfeeds/20220210/HIMGS_1100+2600_arcdrift0004-0004_1050-1150MHz.h5\n",
      "\t/home/ycli/data/fanalysis/rb4_sumfeeds/20220210/HIMGS_1100+2600_arcdrift0005-0005_1050-1150MHz.h5\n",
      "\t/home/ycli/data/fanalysis/rb4_sumfeeds/20220210/HIMGS_1100+2600_arcdrift0006-0006_1050-1150MHz.h5\n",
      "\t/home/ycli/data/fanalysis/rb4_sumfeeds/20220210/HIMGS_1100+2600_arcdrift0007-0007_1050-1150MHz.h5\n"
     ]
    },
    {
     "name": "stdout",
     "output_type": "stream",
     "text": [
      "\n",
      "End the pipeline at 2022-10-05 09:57:18.509014...\n",
      "Total run time: 5 minutes 59.78 seconds\n",
      "\n",
      "\n",
      "==========================================\n",
      "=                                        =\n",
      "=        DONE FOR THE PIPELINE!!         =\n",
      "=           CONGRATULATIONS!!            =\n",
      "=                                        =\n",
      "==========================================\n",
      "Start the pipeline at 2022-10-05 09:57:18.620908...\n"
     ]
    },
    {
     "name": "stderr",
     "output_type": "stream",
     "text": [
      "INFO:fpipe.plot.plot_waterfall:share mask with pols\n"
     ]
    },
    {
     "name": "stdout",
     "output_type": "stream",
     "text": [
      "Uisng Noise Diode Mask for Ant. 000\n",
      "17.91932333714835 0.8139139999018435\n"
     ]
    },
    {
     "name": "stderr",
     "output_type": "stream",
     "text": [
      "INFO:tlpipe.pipeline.pipeline:Initializing task: <class 'fpipe.timestream.freq_rebin.Rebin'>\n",
      "INFO:tlpipe.pipeline.pipeline:Rebin reading data from files:\n",
      "\t/home/ycli/data/fanalysis/sir_sumfeeds/20220210/HIMGS_1100+2600_arcdrift0001-0001_1150-1250MHz.h5\n",
      "\t/home/ycli/data/fanalysis/sir_sumfeeds/20220210/HIMGS_1100+2600_arcdrift0002-0002_1150-1250MHz.h5\n",
      "\t/home/ycli/data/fanalysis/sir_sumfeeds/20220210/HIMGS_1100+2600_arcdrift0003-0003_1150-1250MHz.h5\n",
      "\t/home/ycli/data/fanalysis/sir_sumfeeds/20220210/HIMGS_1100+2600_arcdrift0004-0004_1150-1250MHz.h5\n",
      "\t/home/ycli/data/fanalysis/sir_sumfeeds/20220210/HIMGS_1100+2600_arcdrift0005-0005_1150-1250MHz.h5\n",
      "\t/home/ycli/data/fanalysis/sir_sumfeeds/20220210/HIMGS_1100+2600_arcdrift0006-0006_1150-1250MHz.h5\n",
      "\t/home/ycli/data/fanalysis/sir_sumfeeds/20220210/HIMGS_1100+2600_arcdrift0007-0007_1150-1250MHz.h5\n"
     ]
    },
    {
     "name": "stdout",
     "output_type": "stream",
     "text": [
      "\n",
      "End the pipeline at 2022-10-05 09:58:47.685339...\n",
      "Total run time: 1 minute 29.06 seconds\n",
      "\n",
      "\n",
      "==========================================\n",
      "=                                        =\n",
      "=        DONE FOR THE PIPELINE!!         =\n",
      "=           CONGRATULATIONS!!            =\n",
      "=                                        =\n",
      "==========================================\n",
      "Start the pipeline at 2022-10-05 09:58:47.747785...\n",
      "Reading parameters from dictionary.\n",
      "Warning: Assigned an input parameter to the value of the wrong type. Parameter name: input_files\n",
      "Warning: Assigned an input parameter to the value of the wrong type. Parameter name: output_files\n",
      "Warning: Assigned an input parameter to the value of the wrong type. Parameter name: bin_combine_number\n",
      "Parameters set.\n",
      "parameter: requires defaulted to value: None\n",
      "parameter: in defaulted to value: None\n",
      "parameter: out defaulted to value: None\n",
      "parameter: keep_last_in defaulted to value: False\n",
      "parameter: timing defaulted to value: False\n",
      "parameter: copy defaulted to value: False\n",
      "parameter: iterable defaulted to value: False\n",
      "parameter: iter_start defaulted to value: 0\n",
      "parameter: iter_step defaulted to value: 1\n",
      "parameter: iter_num defaulted to value: None\n",
      "parameter: dry_run_time defaulted to value: 0\n",
      "parameter: mode defaulted to value: r\n",
      "parameter: start defaulted to value: 0\n",
      "parameter: stop defaulted to value: None\n",
      "parameter: dist_axis defaulted to value: 0\n",
      "parameter: exclude defaulted to value: []\n",
      "parameter: check_status defaulted to value: True\n",
      "parameter: write_hints defaulted to value: True\n",
      "parameter: libver defaulted to value: earliest\n",
      "parameter: chunk_vis defaulted to value: False\n",
      "parameter: chunk_shape defaulted to value: None\n",
      "parameter: chunk_size defaulted to value: 64\n",
      "parameter: output_failed_continue defaulted to value: False\n",
      "parameter: time_select defaulted to value: (0, None)\n",
      "parameter: freq_select defaulted to value: (0, None)\n",
      "parameter: pol_select defaulted to value: (0, None)\n",
      "parameter: feed_select defaulted to value: (0, None)\n",
      "parameter: show_progress defaulted to value: False\n",
      "parameter: progress_step defaulted to value: None\n",
      "parameter: show_info defaulted to value: False\n",
      "parameter: tag_input_iter defaulted to value: True\n",
      "parameter: tag_output_iter defaulted to value: True\n",
      "parameter: bin_number defaulted to value: 16\n"
     ]
    },
    {
     "name": "stderr",
     "output_type": "stream",
     "text": [
      "INFO:tlpipe.pipeline.pipeline:Executing time of Rebin.process(): 0:05:01.421677 [ 2022-10-05 09:59:43.402236 - 2022-10-05 10:04:44.823913 ]\n",
      "INFO:tlpipe.pipeline.pipeline:Rebin writing data to files:\n",
      "\t/home/ycli/data/fanalysis/rb4_sumfeeds/20220210/HIMGS_1100+2600_arcdrift0001-0001_1150-1250MHz.h5\n",
      "\t/home/ycli/data/fanalysis/rb4_sumfeeds/20220210/HIMGS_1100+2600_arcdrift0002-0002_1150-1250MHz.h5\n",
      "\t/home/ycli/data/fanalysis/rb4_sumfeeds/20220210/HIMGS_1100+2600_arcdrift0003-0003_1150-1250MHz.h5\n",
      "\t/home/ycli/data/fanalysis/rb4_sumfeeds/20220210/HIMGS_1100+2600_arcdrift0004-0004_1150-1250MHz.h5\n",
      "\t/home/ycli/data/fanalysis/rb4_sumfeeds/20220210/HIMGS_1100+2600_arcdrift0005-0005_1150-1250MHz.h5\n",
      "\t/home/ycli/data/fanalysis/rb4_sumfeeds/20220210/HIMGS_1100+2600_arcdrift0006-0006_1150-1250MHz.h5\n",
      "\t/home/ycli/data/fanalysis/rb4_sumfeeds/20220210/HIMGS_1100+2600_arcdrift0007-0007_1150-1250MHz.h5\n"
     ]
    },
    {
     "name": "stdout",
     "output_type": "stream",
     "text": [
      "freq resolution reduced from 0.0075683594 to 0.030518 MHz (13106 - 3276)\n"
     ]
    },
    {
     "name": "stderr",
     "output_type": "stream",
     "text": [
      "INFO:tlpipe.pipeline.pipeline:Initializing task: <class 'fpipe.plot.plot_waterfall.PlotMeerKAT'>\n",
      "INFO:tlpipe.pipeline.pipeline:PlotMeerKAT reading data from files:\n",
      "\t/home/ycli/data/fanalysis/rb4_sumfeeds/20220210/HIMGS_1100+2600_arcdrift0001-0001_1150-1250MHz.h5\n",
      "\t/home/ycli/data/fanalysis/rb4_sumfeeds/20220210/HIMGS_1100+2600_arcdrift0002-0002_1150-1250MHz.h5\n",
      "\t/home/ycli/data/fanalysis/rb4_sumfeeds/20220210/HIMGS_1100+2600_arcdrift0003-0003_1150-1250MHz.h5\n",
      "\t/home/ycli/data/fanalysis/rb4_sumfeeds/20220210/HIMGS_1100+2600_arcdrift0004-0004_1150-1250MHz.h5\n",
      "\t/home/ycli/data/fanalysis/rb4_sumfeeds/20220210/HIMGS_1100+2600_arcdrift0005-0005_1150-1250MHz.h5\n",
      "\t/home/ycli/data/fanalysis/rb4_sumfeeds/20220210/HIMGS_1100+2600_arcdrift0006-0006_1150-1250MHz.h5\n",
      "\t/home/ycli/data/fanalysis/rb4_sumfeeds/20220210/HIMGS_1100+2600_arcdrift0007-0007_1150-1250MHz.h5\n"
     ]
    },
    {
     "name": "stdout",
     "output_type": "stream",
     "text": [
      "\n",
      "End the pipeline at 2022-10-05 10:05:28.765107...\n",
      "Total run time: 6 minutes 41.02 seconds\n",
      "\n",
      "\n",
      "==========================================\n",
      "=                                        =\n",
      "=        DONE FOR THE PIPELINE!!         =\n",
      "=           CONGRATULATIONS!!            =\n",
      "=                                        =\n",
      "==========================================\n",
      "Start the pipeline at 2022-10-05 10:05:28.881197...\n"
     ]
    },
    {
     "name": "stderr",
     "output_type": "stream",
     "text": [
      "INFO:fpipe.plot.plot_waterfall:share mask with pols\n"
     ]
    },
    {
     "name": "stdout",
     "output_type": "stream",
     "text": [
      "Uisng Noise Diode Mask for Ant. 000\n",
      "17.93928513967805 0.8337634668540832\n"
     ]
    },
    {
     "name": "stderr",
     "output_type": "stream",
     "text": [
      "INFO:tlpipe.pipeline.pipeline:Initializing task: <class 'fpipe.timestream.freq_rebin.Rebin'>\n",
      "INFO:tlpipe.pipeline.pipeline:Rebin reading data from files:\n",
      "\t/home/ycli/data/fanalysis/sir_sumfeeds/20220210/HIMGS_1100+2600_arcdrift0001-0001_1250-1450MHz.h5\n",
      "\t/home/ycli/data/fanalysis/sir_sumfeeds/20220210/HIMGS_1100+2600_arcdrift0002-0002_1250-1450MHz.h5\n",
      "\t/home/ycli/data/fanalysis/sir_sumfeeds/20220210/HIMGS_1100+2600_arcdrift0003-0003_1250-1450MHz.h5\n",
      "\t/home/ycli/data/fanalysis/sir_sumfeeds/20220210/HIMGS_1100+2600_arcdrift0004-0004_1250-1450MHz.h5\n",
      "\t/home/ycli/data/fanalysis/sir_sumfeeds/20220210/HIMGS_1100+2600_arcdrift0005-0005_1250-1450MHz.h5\n",
      "\t/home/ycli/data/fanalysis/sir_sumfeeds/20220210/HIMGS_1100+2600_arcdrift0006-0006_1250-1450MHz.h5\n",
      "\t/home/ycli/data/fanalysis/sir_sumfeeds/20220210/HIMGS_1100+2600_arcdrift0007-0007_1250-1450MHz.h5\n"
     ]
    },
    {
     "name": "stdout",
     "output_type": "stream",
     "text": [
      "\n",
      "End the pipeline at 2022-10-05 10:06:56.099078...\n",
      "Total run time: 1 minute 27.22 seconds\n",
      "\n",
      "\n",
      "==========================================\n",
      "=                                        =\n",
      "=        DONE FOR THE PIPELINE!!         =\n",
      "=           CONGRATULATIONS!!            =\n",
      "=                                        =\n",
      "==========================================\n",
      "Start the pipeline at 2022-10-05 10:06:56.159129...\n",
      "Reading parameters from dictionary.\n",
      "Warning: Assigned an input parameter to the value of the wrong type. Parameter name: input_files\n",
      "Warning: Assigned an input parameter to the value of the wrong type. Parameter name: output_files\n",
      "Warning: Assigned an input parameter to the value of the wrong type. Parameter name: bin_combine_number\n",
      "Parameters set.\n",
      "parameter: requires defaulted to value: None\n",
      "parameter: in defaulted to value: None\n",
      "parameter: out defaulted to value: None\n",
      "parameter: keep_last_in defaulted to value: False\n",
      "parameter: timing defaulted to value: False\n",
      "parameter: copy defaulted to value: False\n",
      "parameter: iterable defaulted to value: False\n",
      "parameter: iter_start defaulted to value: 0\n",
      "parameter: iter_step defaulted to value: 1\n",
      "parameter: iter_num defaulted to value: None\n",
      "parameter: dry_run_time defaulted to value: 0\n",
      "parameter: mode defaulted to value: r\n",
      "parameter: start defaulted to value: 0\n",
      "parameter: stop defaulted to value: None\n",
      "parameter: dist_axis defaulted to value: 0\n",
      "parameter: exclude defaulted to value: []\n",
      "parameter: check_status defaulted to value: True\n",
      "parameter: write_hints defaulted to value: True\n",
      "parameter: libver defaulted to value: earliest\n",
      "parameter: chunk_vis defaulted to value: False\n",
      "parameter: chunk_shape defaulted to value: None\n",
      "parameter: chunk_size defaulted to value: 64\n",
      "parameter: output_failed_continue defaulted to value: False\n",
      "parameter: time_select defaulted to value: (0, None)\n",
      "parameter: freq_select defaulted to value: (0, None)\n",
      "parameter: pol_select defaulted to value: (0, None)\n",
      "parameter: feed_select defaulted to value: (0, None)\n",
      "parameter: show_progress defaulted to value: False\n",
      "parameter: progress_step defaulted to value: None\n",
      "parameter: show_info defaulted to value: False\n",
      "parameter: tag_input_iter defaulted to value: True\n",
      "parameter: tag_output_iter defaulted to value: True\n",
      "parameter: bin_number defaulted to value: 16\n"
     ]
    },
    {
     "name": "stderr",
     "output_type": "stream",
     "text": [
      "INFO:tlpipe.pipeline.pipeline:Executing time of Rebin.process(): 0:10:34.098124 [ 2022-10-05 10:08:51.322511 - 2022-10-05 10:19:25.420635 ]\n",
      "INFO:tlpipe.pipeline.pipeline:Rebin writing data to files:\n",
      "\t/home/ycli/data/fanalysis/rb4_sumfeeds/20220210/HIMGS_1100+2600_arcdrift0001-0001_1250-1450MHz.h5\n",
      "\t/home/ycli/data/fanalysis/rb4_sumfeeds/20220210/HIMGS_1100+2600_arcdrift0002-0002_1250-1450MHz.h5\n",
      "\t/home/ycli/data/fanalysis/rb4_sumfeeds/20220210/HIMGS_1100+2600_arcdrift0003-0003_1250-1450MHz.h5\n",
      "\t/home/ycli/data/fanalysis/rb4_sumfeeds/20220210/HIMGS_1100+2600_arcdrift0004-0004_1250-1450MHz.h5\n",
      "\t/home/ycli/data/fanalysis/rb4_sumfeeds/20220210/HIMGS_1100+2600_arcdrift0005-0005_1250-1450MHz.h5\n",
      "\t/home/ycli/data/fanalysis/rb4_sumfeeds/20220210/HIMGS_1100+2600_arcdrift0006-0006_1250-1450MHz.h5\n",
      "\t/home/ycli/data/fanalysis/rb4_sumfeeds/20220210/HIMGS_1100+2600_arcdrift0007-0007_1250-1450MHz.h5\n"
     ]
    },
    {
     "name": "stdout",
     "output_type": "stream",
     "text": [
      "freq resolution reduced from 0.0076904297 to 0.030518 MHz (26213 - 6553)\n"
     ]
    },
    {
     "name": "stderr",
     "output_type": "stream",
     "text": [
      "INFO:tlpipe.pipeline.pipeline:Initializing task: <class 'fpipe.plot.plot_waterfall.PlotMeerKAT'>\n",
      "INFO:tlpipe.pipeline.pipeline:PlotMeerKAT reading data from files:\n",
      "\t/home/ycli/data/fanalysis/rb4_sumfeeds/20220210/HIMGS_1100+2600_arcdrift0001-0001_1250-1450MHz.h5\n",
      "\t/home/ycli/data/fanalysis/rb4_sumfeeds/20220210/HIMGS_1100+2600_arcdrift0002-0002_1250-1450MHz.h5\n",
      "\t/home/ycli/data/fanalysis/rb4_sumfeeds/20220210/HIMGS_1100+2600_arcdrift0003-0003_1250-1450MHz.h5\n",
      "\t/home/ycli/data/fanalysis/rb4_sumfeeds/20220210/HIMGS_1100+2600_arcdrift0004-0004_1250-1450MHz.h5\n",
      "\t/home/ycli/data/fanalysis/rb4_sumfeeds/20220210/HIMGS_1100+2600_arcdrift0005-0005_1250-1450MHz.h5\n",
      "\t/home/ycli/data/fanalysis/rb4_sumfeeds/20220210/HIMGS_1100+2600_arcdrift0006-0006_1250-1450MHz.h5\n",
      "\t/home/ycli/data/fanalysis/rb4_sumfeeds/20220210/HIMGS_1100+2600_arcdrift0007-0007_1250-1450MHz.h5\n"
     ]
    },
    {
     "name": "stdout",
     "output_type": "stream",
     "text": [
      "\n",
      "End the pipeline at 2022-10-05 10:20:52.475561...\n",
      "Total run time: 13 minutes 56.32 seconds\n",
      "\n",
      "\n",
      "==========================================\n",
      "=                                        =\n",
      "=        DONE FOR THE PIPELINE!!         =\n",
      "=           CONGRATULATIONS!!            =\n",
      "=                                        =\n",
      "==========================================\n",
      "Start the pipeline at 2022-10-05 10:20:52.625666...\n"
     ]
    },
    {
     "name": "stderr",
     "output_type": "stream",
     "text": [
      "INFO:fpipe.plot.plot_waterfall:share mask with pols\n"
     ]
    },
    {
     "name": "stdout",
     "output_type": "stream",
     "text": [
      "Uisng Noise Diode Mask for Ant. 000\n",
      "16.48834380405308 2.3911419231616633\n",
      "\n",
      "End the pipeline at 2022-10-05 10:23:47.412619...\n",
      "Total run time: 2 minutes 54.79 seconds\n",
      "\n",
      "\n",
      "==========================================\n",
      "=                                        =\n",
      "=        DONE FOR THE PIPELINE!!         =\n",
      "=           CONGRATULATIONS!!            =\n",
      "=                                        =\n",
      "==========================================\n"
     ]
    }
   ],
   "source": [
    "for DATA_Key, DATA, DATE in iter_data_key(DATA_Key_list):\n",
    "\n",
    "    file_temp = '%s/%s_arcdrift%04d-%04d%s.h5'\n",
    "    \n",
    "    for suffix in band_list:\n",
    "        \n",
    "        plot_wf['pkat1_input_files'] = ['rb4_sumfeeds/%s'%f for f in input_files]\n",
    "        plot_wf['pkat1_fig_name'] = 'plot/%s_%s_%s%s'%('rb4', DATA, DATE, suffix)\n",
    "        plot_wf()\n",
    "        %reset -f array"
   ]
  },
  {
   "cell_type": "code",
   "execution_count": 9,
   "id": "e966b543-575d-4ba3-a151-951cb7d81b7d",
   "metadata": {},
   "outputs": [],
   "source": [
    "%reset -f array"
   ]
  },
  {
   "cell_type": "code",
   "execution_count": 11,
   "id": "ac7f255c-a7b5-42e4-a60b-2056afb5f054",
   "metadata": {},
   "outputs": [
    {
     "name": "stdout",
     "output_type": "stream",
     "text": [
      "/home/ycli/data/fanalysis//sir_sumfeeds/20220210/HIMGS_1100+2600_arcdrift0001-0001_1050-1150MHz.h5\n",
      "/home/ycli/data/fanalysis//sir_sumfeeds/20220210/HIMGS_1100+2600_arcdrift0002-0002_1050-1150MHz.h5\n",
      "/home/ycli/data/fanalysis//sir_sumfeeds/20220210/HIMGS_1100+2600_arcdrift0003-0003_1050-1150MHz.h5\n",
      "/home/ycli/data/fanalysis//sir_sumfeeds/20220210/HIMGS_1100+2600_arcdrift0004-0004_1050-1150MHz.h5\n",
      "/home/ycli/data/fanalysis//sir_sumfeeds/20220210/HIMGS_1100+2600_arcdrift0005-0005_1050-1150MHz.h5\n",
      "/home/ycli/data/fanalysis//sir_sumfeeds/20220210/HIMGS_1100+2600_arcdrift0006-0006_1050-1150MHz.h5\n",
      "/home/ycli/data/fanalysis//sir_sumfeeds/20220210/HIMGS_1100+2600_arcdrift0007-0007_1050-1150MHz.h5\n",
      "/home/ycli/data/fanalysis//sir_sumfeeds/20220210/HIMGS_1100+2600_arcdrift0001-0001_1150-1250MHz.h5\n",
      "/home/ycli/data/fanalysis//sir_sumfeeds/20220210/HIMGS_1100+2600_arcdrift0002-0002_1150-1250MHz.h5\n",
      "/home/ycli/data/fanalysis//sir_sumfeeds/20220210/HIMGS_1100+2600_arcdrift0003-0003_1150-1250MHz.h5\n",
      "/home/ycli/data/fanalysis//sir_sumfeeds/20220210/HIMGS_1100+2600_arcdrift0004-0004_1150-1250MHz.h5\n",
      "/home/ycli/data/fanalysis//sir_sumfeeds/20220210/HIMGS_1100+2600_arcdrift0005-0005_1150-1250MHz.h5\n",
      "/home/ycli/data/fanalysis//sir_sumfeeds/20220210/HIMGS_1100+2600_arcdrift0006-0006_1150-1250MHz.h5\n",
      "/home/ycli/data/fanalysis//sir_sumfeeds/20220210/HIMGS_1100+2600_arcdrift0007-0007_1150-1250MHz.h5\n",
      "/home/ycli/data/fanalysis//sir_sumfeeds/20220210/HIMGS_1100+2600_arcdrift0001-0001_1250-1450MHz.h5\n",
      "/home/ycli/data/fanalysis//sir_sumfeeds/20220210/HIMGS_1100+2600_arcdrift0002-0002_1250-1450MHz.h5\n",
      "/home/ycli/data/fanalysis//sir_sumfeeds/20220210/HIMGS_1100+2600_arcdrift0003-0003_1250-1450MHz.h5\n",
      "/home/ycli/data/fanalysis//sir_sumfeeds/20220210/HIMGS_1100+2600_arcdrift0004-0004_1250-1450MHz.h5\n",
      "/home/ycli/data/fanalysis//sir_sumfeeds/20220210/HIMGS_1100+2600_arcdrift0005-0005_1250-1450MHz.h5\n",
      "/home/ycli/data/fanalysis//sir_sumfeeds/20220210/HIMGS_1100+2600_arcdrift0006-0006_1250-1450MHz.h5\n",
      "/home/ycli/data/fanalysis//sir_sumfeeds/20220210/HIMGS_1100+2600_arcdrift0007-0007_1250-1450MHz.h5\n"
     ]
    },
    {
     "name": "stderr",
     "output_type": "stream",
     "text": [
      "/home/ycli/code/fpipe/fpipe/plot/plot_rfi.py:94: RuntimeWarning: divide by zero encountered in log10\n",
      "  if label_list is not None:\n",
      "/home/ycli/code/fpipe/fpipe/plot/plot_rfi.py:94: RuntimeWarning: divide by zero encountered in log10\n",
      "  if label_list is not None:\n",
      "/home/ycli/code/fpipe/fpipe/plot/plot_rfi.py:94: RuntimeWarning: divide by zero encountered in log10\n",
      "  if label_list is not None:\n",
      "/home/ycli/code/fpipe/fpipe/plot/plot_rfi.py:94: RuntimeWarning: divide by zero encountered in log10\n",
      "  if label_list is not None:\n",
      "/home/ycli/code/fpipe/fpipe/plot/plot_rfi.py:94: RuntimeWarning: divide by zero encountered in log10\n",
      "  if label_list is not None:\n",
      "/home/ycli/code/fpipe/fpipe/plot/plot_rfi.py:94: RuntimeWarning: divide by zero encountered in log10\n",
      "  if label_list is not None:\n"
     ]
    },
    {
     "name": "stdout",
     "output_type": "stream",
     "text": [
      "[-3.4658157  -0.61148599 23.36869255] 0.26857604363416093 23.459151980231777\n",
      "[-3.84335246 -0.91830425 22.02524611] 0.255043874675586 22.27716566482607\n",
      "[-4.52559496 -0.51312966 23.82811784] 0.2350347964163343 20.529444604091697\n",
      "Mask Ratio:  [0.14476891 0.88534562 0.02744924]\n"
     ]
    },
    {
     "data": {
      "image/png": "[encoded data removed]",
      "text/plain": [
       "<Figure size 432x288 with 1 Axes>"
      ]
     },
     "metadata": {
      "needs_background": "light"
     },
     "output_type": "display_data"
    }
   ],
   "source": [
    "for DATA_Key, DATA, DATE in iter_data_key(DATA_Key_list):\n",
    "    file_temp = '%s/%s_arcdrift'%(DATE, DATA)\n",
    "    \n",
    "    #fbins = [1050, 1135, 1310, 1450]\n",
    "    fbins = [1050, 1150, 1323, 1450]\n",
    "    \n",
    "    file_root = data_base + '/sir_sumfeeds/'\n",
    "    file_list_af = [\n",
    "        [ file_root + '%s%04d-%04d%s.h5'%(file_temp, i, i, band_list[0]) for i in range(1, 8) ],\n",
    "        [ file_root + '%s%04d-%04d%s.h5'%(file_temp, i, i, band_list[1]) for i in range(1, 8) ],\n",
    "        [ file_root + '%s%04d-%04d%s.h5'%(file_temp, i, i, band_list[2]) for i in range(1, 8) ],\n",
    "    ]\n",
    "    hist_file = data_base + '/rfi_hist/sir_sumfeeds_%s_full.h5'%file_temp.replace('/', '_')\n",
    "    pr.output_rfi_hist(file_list_af, fbins=fbins, output=hist_file)\n",
    "    fig_output = data_base + '/plot/rfi_hist_sir_sumfeeds_%s.png'%file_temp.replace('/', '_')\n",
    "    pr.plot_rfi_hist_multi(hist_file, output=fig_output)"
   ]
  },
  {
   "cell_type": "code",
   "execution_count": null,
   "id": "30b72278-84cf-4b4a-b696-e338bd08ab66",
   "metadata": {},
   "outputs": [
    {
     "name": "stdout",
     "output_type": "stream",
     "text": [
      "[[0. 0. 0. 0. 0. 0. 0. 0. 0. 0. 0. 0. 0. 0. 0. 0. 0. 0. 0.]\n",
      " [0. 0. 0. 0. 0. 0. 0. 0. 0. 0. 0. 0. 0. 0. 0. 0. 0. 0. 0.]]\n",
      "[[12199.25    8642.578   8862.829  11853.85    9114.407   7842.0776\n",
      "   5553.64    8422.172   6552.76    6778.4053 15578.17    7096.8286\n",
      "   6038.9814  4218.531   4177.44    6573.5796  6254.0723 10901.774\n",
      "   8577.614 ]\n",
      " [ 5680.512   6785.1807 12426.721   7805.051   9182.245   4974.0244\n",
      "   9173.889  12476.136  10119.442  11113.836  11096.158  12128.449\n",
      "   6444.702   3869.3704  6962.011   3152.751   4137.019   7889.7344\n",
      "   5880.824 ]]\n",
      "\n",
      "[[0. 0. 0. 0. 0. 0. 0. 0. 0. 0. 0. 0. 0. 0. 0. 0. 0. 0. 0.]\n",
      " [0. 0. 0. 0. 0. 0. 0. 0. 0. 0. 0. 0. 0. 0. 0. 0. 0. 0. 0.]]\n",
      "[[526.6566  432.49585 391.8371  327.6699  516.1873  286.5699  325.82864\n",
      "  511.69897 397.6012  394.52914 310.1183  419.9073  327.9851  285.02832\n",
      "  419.5458  409.69226 588.35516 435.60217 310.8179 ]\n",
      " [258.70535 234.65059 284.715   321.27408 256.92065 302.29874 243.46278\n",
      "  268.40985 276.21164 339.13654 318.31372 218.37323 260.51645 301.04517\n",
      "  268.7533  347.28314 292.534   288.63574 304.54498]]\n",
      "\n",
      "[[0. 0. 0. 0. 0. 0. 0. 0. 0. 0. 0. 0. 0. 0. 0. 0. 0. 0. 0.]\n",
      " [0. 0. 0. 0. 0. 0. 0. 0. 0. 0. 0. 0. 0. 0. 0. 0. 0. 0. 0.]]\n",
      "[[305.8665  286.48288 368.1629  278.8974  311.15442 173.58632 398.74814\n",
      "  227.19115 399.5855  338.12573 315.30255 318.44946 338.90576 236.85223\n",
      "  208.91513 334.96835 314.75226 296.6836  370.6125 ]\n",
      " [246.759   244.952   254.97043 192.42422 284.52423 259.57294 398.85785\n",
      "  194.05017 238.156   342.6905  276.2658  172.52902 277.8363  237.81432\n",
      "  284.73233 209.48068 243.82849 248.22768 305.77716]]\n",
      "\n",
      "[[0. 0. 0. 0. 0. 0. 0. 0. 0. 0. 0. 0. 0. 0. 0. 0. 0. 0. 0.]\n",
      " [0. 0. 0. 0. 0. 0. 0. 0. 0. 0. 0. 0. 0. 0. 0. 0. 0. 0. 0.]]\n",
      "[[181.46257  272.75232  145.91093  218.75496  111.63161  132.617\n",
      "  195.96497  335.0159   396.17062  360.77484  212.04768  247.32683\n",
      "  181.83514  115.615456 209.4197    74.32767  190.91583  242.60919\n",
      "  132.02544 ]\n",
      " [290.40936  240.01646  389.2357   282.52933  178.4704   169.46495\n",
      "  205.87814  395.21786  350.17703  431.99783  224.94522  290.9154\n",
      "  149.1907   144.54433  132.3356   142.69212  251.96683  193.3812\n",
      "  160.57771 ]]\n",
      "\n",
      "[[0. 0. 0. 0. 0. 0. 0. 0. 0. 0. 0. 0. 0. 0. 0. 0. 0. 0. 0.]\n",
      " [0. 0. 0. 0. 0. 0. 0. 0. 0. 0. 0. 0. 0. 0. 0. 0. 0. 0. 0.]]\n",
      "[[289.7137  217.4096  232.4529  268.4285  255.84055 239.18658 269.53723\n",
      "  302.0548  209.53484 240.65591 295.2239  436.45752 634.3386  340.2912\n",
      "  266.7648  333.612   608.7417  427.11996 311.77426]\n",
      " [213.63953 279.54343 266.89227 231.60504 210.17354 248.06723 409.08923\n",
      "  365.7199  280.36337 367.24857 159.88356 269.24918 322.6379  314.21115\n",
      "  252.29115 265.9682  220.9846  328.96252 153.37741]]\n",
      "\n",
      "[[0. 0. 0. 0. 0. 0. 0. 0. 0. 0. 0. 0. 0. 0. 0. 0. 0. 0. 0.]\n",
      " [0. 0. 0. 0. 0. 0. 0. 0. 0. 0. 0. 0. 0. 0. 0. 0. 0. 0. 0.]]\n",
      "[[472.19687 282.18417 364.59067 280.47922 452.08554 272.62384 293.864\n",
      "  251.20233 449.17114 496.9327  267.0008  456.97272 549.08496 229.26758\n",
      "  318.58752 389.43555 319.03464 407.1735  474.03625]\n",
      " [218.90057 187.48701 174.06143 187.86682 256.90625 191.76578 269.9913\n",
      "  272.41675 315.9874  330.0792  233.8052  210.87418 185.2664  270.28467\n",
      "  243.74295 267.59842 246.12659 266.59335 224.87485]]\n",
      "\n"
     ]
    }
   ],
   "source": [
    "file_root = data_base + '/rf_sumfeeds/'\n",
    "file_list_af = [\n",
    "    [ file_root + '%s%04d-%04d_%s.h5'%(file_temp, i, i, b[0]) for i in range(1, 8) ],\n",
    "    [ file_root + '%s%04d-%04d_%s.h5'%(file_temp, i, i, b[1]) for i in range(1, 8) ],\n",
    "    [ file_root + '%s%04d-%04d_%s.h5'%(file_temp, i, i, b[2]) for i in range(1, 8) ],\n",
    "]\n",
    "hist_file = data_base + '/rfi_hist/sth_sumfeeds_%s_full.h5'%file_temp.replace('/', '_')\n",
    "pr.output_rfi_hist(file_list_af, fbins=fbins, output=hist_file)\n",
    "fig_output = data_base + '/plot/rfi_hist_sth_sumfeeds_%s.png'%file_temp.replace('/', '_')\n",
    "pr.plot_rfi_hist_multi(hist_file, output=fig_output)"
   ]
  },
  {
   "cell_type": "code",
   "execution_count": null,
   "id": "baba4098-1f26-4ec3-8337-9c67339a06b2",
   "metadata": {},
   "outputs": [],
   "source": []
  }
 ],
 "metadata": {
  "kernelspec": {
   "display_name": "Py3.8 Parallel hdf5",
   "language": "python",
   "name": "python3.8_parallelhdf5"
  },
  "language_info": {
   "codemirror_mode": {
    "name": "ipython",
    "version": 3
   },
   "file_extension": ".py",
   "mimetype": "text/x-python",
   "name": "python",
   "nbconvert_exporter": "python",
   "pygments_lexer": "ipython3",
   "version": "3.8.8"
  }
 },
 "nbformat": 4,
 "nbformat_minor": 5
}
